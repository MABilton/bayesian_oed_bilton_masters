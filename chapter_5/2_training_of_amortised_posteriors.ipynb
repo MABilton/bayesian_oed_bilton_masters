{
 "cells": [
  {
   "cell_type": "markdown",
   "id": "a3a8c3a6",
   "metadata": {},
   "source": [
    "# Set-Up and Imports"
   ]
  },
  {
   "cell_type": "code",
   "execution_count": 1,
   "id": "678aace1",
   "metadata": {},
   "outputs": [],
   "source": [
    "import jax\n",
    "import jax.numpy as jnp\n",
    "import numpy as np\n",
    "import surrojax_gp\n",
    "import oed_toolbox\n",
    "import matplotlib as mpl\n",
    "import matplotlib.pyplot as plt\n",
    "import seaborn as sns\n",
    "import os\n",
    "import time\n",
    "import sys\n",
    "sys.path.insert(0, '..')\n",
    "import plotting_helpers\n",
    "import computation_helpers"
   ]
  },
  {
   "cell_type": "markdown",
   "id": "5d8089c8",
   "metadata": {},
   "source": [
    "Plotting settings:"
   ]
  },
  {
   "cell_type": "code",
   "execution_count": 2,
   "id": "fa089252",
   "metadata": {},
   "outputs": [],
   "source": [
    "# dpi of images displayed in notebook:\n",
    "mpl.rcParams['figure.dpi'] = 100\n",
    "# dpi of images saved to seperate folder:\n",
    "mpl_save_dpi = 300"
   ]
  },
  {
   "cell_type": "markdown",
   "id": "cd6c52f4",
   "metadata": {},
   "source": [
    "Save directory for figures:"
   ]
  },
  {
   "cell_type": "code",
   "execution_count": 3,
   "id": "0c87bf33",
   "metadata": {},
   "outputs": [],
   "source": [
    "fig_save_dir = './figs/amortised'\n",
    "if not os.path.isdir(fig_save_dir):\n",
    "    os.makedirs(fig_save_dir)"
   ]
  },
  {
   "cell_type": "markdown",
   "id": "c9dbd49a",
   "metadata": {},
   "source": [
    "Random seed:"
   ]
  },
  {
   "cell_type": "code",
   "execution_count": 4,
   "id": "09115b18",
   "metadata": {},
   "outputs": [
    {
     "name": "stderr",
     "output_type": "stream",
     "text": [
      "WARNING:absl:No GPU/TPU found, falling back to CPU. (Set TF_CPP_MIN_LOG_LEVEL=0 and rerun for more info.)\n"
     ]
    }
   ],
   "source": [
    "jax_rng = jax.random.PRNGKey(42)"
   ]
  },
  {
   "cell_type": "markdown",
   "id": "a42d6125",
   "metadata": {},
   "source": [
    "Load our surrogate:"
   ]
  },
  {
   "cell_type": "code",
   "execution_count": 5,
   "id": "3b43c093",
   "metadata": {},
   "outputs": [],
   "source": [
    "beam_gp = surrojax_gp.load_gp('../chapter_4/nonlinear_beam_gp.json')"
   ]
  },
  {
   "cell_type": "markdown",
   "id": "dded375f",
   "metadata": {},
   "source": [
    "# Training of Amortised Distributions"
   ]
  },
  {
   "cell_type": "markdown",
   "id": "7a275048",
   "metadata": {},
   "source": [
    "Defining our prior and joint:"
   ]
  },
  {
   "cell_type": "code",
   "execution_count": 6,
   "id": "1a4bbfa8",
   "metadata": {},
   "outputs": [],
   "source": [
    "noise_cov = 0.005*jnp.identity(1)\n",
    "prior_cov = 0.01*jnp.identity(1)\n",
    "prior_mean = 0.5*jnp.ones((1,))\n",
    "prior = oed_toolbox.distributions.Prior.gaussian(prior_mean, prior_cov)\n",
    "beam_model = oed_toolbox.models.Model.from_surrojax_gp(beam_gp)\n",
    "likelihood = oed_toolbox.distributions.Likelihood.from_model_plus_constant_gaussian_noise(beam_model, noise_cov)\n",
    "joint = oed_toolbox.distributions.Joint.from_prior_and_likelihood(prior, likelihood)"
   ]
  },
  {
   "cell_type": "markdown",
   "id": "3c23dc28",
   "metadata": {},
   "source": [
    "## Reverse KL Approximation"
   ]
  },
  {
   "cell_type": "code",
   "execution_count": 7,
   "id": "e9ee67ee",
   "metadata": {
    "scrolled": true
   },
   "outputs": [
    {
     "name": "stdout",
     "output_type": "stream",
     "text": [
      "Took 113.22 seconds to train Reverse KL amortised approximation.\n"
     ]
    }
   ],
   "source": [
    "max_iter = 200\n",
    "num_samples = 1000\n",
    "y_lims = (0.0, 1.0)\n",
    "d_lims = (0.0, 1.0)\n",
    "num_y_pts = num_d_pts = 10\n",
    "num_layers = 5\n",
    "nn_width = 10\n",
    "activation = 'tanh'\n",
    "phi_lims = {'mean': {'lb':-0.25, 'ub':1.25}, 'log_chol_diag': {'lb':-3, 'ub':-2.}}\n",
    "t_start = time.time()\n",
    "reverse_approx, reverse_loss = \\\n",
    "computation_helpers.train_nn_amortised_normal_approx(beam_gp, y_lims, d_lims, num_y_pts, num_d_pts, \n",
    "                                                     noise_cov, prior_mean, prior_cov, \n",
    "                                                     jax_rng, num_samples, max_iter,\n",
    "                                                     num_layers, nn_width, activation, phi_lims,\n",
    "                                                     loss_name='reverse_kl', use_reparameterisation=True,\n",
    "                                                     verbose=False)\n",
    "t_reverse_train = time.time() - t_start\n",
    "print(f'Took {t_reverse_train:.2f} seconds to train Reverse KL amortised approximation.')"
   ]
  },
  {
   "cell_type": "markdown",
   "id": "291b4967",
   "metadata": {},
   "source": [
    "Let's now save the weights of this trained approximation"
   ]
  },
  {
   "cell_type": "code",
   "execution_count": 8,
   "id": "c2c0d6f5",
   "metadata": {},
   "outputs": [],
   "source": [
    "reverse_approx.save('reverse_kl_approx')"
   ]
  },
  {
   "cell_type": "markdown",
   "id": "0f4b8807",
   "metadata": {},
   "source": [
    "Let's now plot the surface of the mean and variance of our approximation:"
   ]
  },
  {
   "cell_type": "code",
   "execution_count": 9,
   "id": "c2c5f588",
   "metadata": {},
   "outputs": [],
   "source": [
    "num_y_pts = num_d_pts = 100\n",
    "mpl.rcParams.update(mpl.rcParamsDefault)\n",
    "fig = plotting_helpers.plot_amortised_phi(reverse_approx, y_lims, d_lims, num_y_pts, num_d_pts, 'mean', phi_ticks_dp=2)\n",
    "plt.savefig(os.path.join(fig_save_dir, 'reverse_kl_mean.png'), dpi=mpl_save_dpi)"
   ]
  },
  {
   "cell_type": "code",
   "execution_count": 20,
   "id": "9d8990db",
   "metadata": {
    "scrolled": false
   },
   "outputs": [],
   "source": [
    "num_y_pts = num_d_pts = 100\n",
    "mpl.rcParams.update(mpl.rcParamsDefault)\n",
    "fig = plotting_helpers.plot_amortised_phi(reverse_approx, y_lims, d_lims, num_y_pts, num_d_pts,\n",
    "                                          'log_chol_diag', phi_ticks_dp=5)\n",
    "plt.savefig(os.path.join(fig_save_dir, 'reverse_kl_variance.png'), dpi=mpl_save_dpi)"
   ]
  },
  {
   "cell_type": "markdown",
   "id": "e297dbf1",
   "metadata": {},
   "source": [
    "Let's also plot the loss history:"
   ]
  },
  {
   "cell_type": "code",
   "execution_count": 11,
   "id": "4c3a9c6b",
   "metadata": {},
   "outputs": [],
   "source": [
    "sns.set_theme(style='darkgrid')\n",
    "fig = plotting_helpers.plot_loss_history(reverse_loss, y_label='ELBO Loss')\n",
    "plt.savefig(os.path.join(fig_save_dir, 'reverse_kl_loss.png'), dpi=mpl_save_dpi)"
   ]
  },
  {
   "cell_type": "markdown",
   "id": "fc3020e9",
   "metadata": {},
   "source": [
    "## Forward KL Training"
   ]
  },
  {
   "cell_type": "code",
   "execution_count": 12,
   "id": "fdaf419f",
   "metadata": {},
   "outputs": [
    {
     "name": "stdout",
     "output_type": "stream",
     "text": [
      "Took 182.52 seconds to train Forward KL amortised approximation.\n"
     ]
    }
   ],
   "source": [
    "max_iter = 200\n",
    "num_samples = 1000\n",
    "y_lims = (0.0, 1.0)\n",
    "d_lims = (0.0, 1.0)\n",
    "num_y_pts = num_d_pts = 10\n",
    "num_layers = 5\n",
    "nn_width = 10\n",
    "activation = 'tanh'\n",
    "phi_lims = {'mean': {'lb':-0.25, 'ub':1.25}, 'log_chol_diag': {'lb':-3, 'ub':-2.}}\n",
    "t_start = time.time()\n",
    "forward_approx, forward_loss = \\\n",
    "computation_helpers.train_nn_amortised_normal_approx(beam_gp, y_lims, d_lims, num_y_pts, num_d_pts, \n",
    "                                                     noise_cov, prior_mean, prior_cov, \n",
    "                                                     jax_rng, num_samples, max_iter,\n",
    "                                                     num_layers, nn_width, activation, phi_lims,\n",
    "                                                     loss_name='forward_kl', use_reparameterisation=False,\n",
    "                                                     verbose=False)\n",
    "t_forward_train = time.time() - t_start\n",
    "print(f'Took {t_forward_train:.2f} seconds to train Forward KL amortised approximation.')"
   ]
  },
  {
   "cell_type": "markdown",
   "id": "16b7df1b",
   "metadata": {},
   "source": [
    "Saving these trained weights:"
   ]
  },
  {
   "cell_type": "code",
   "execution_count": 13,
   "id": "b0152b3f",
   "metadata": {},
   "outputs": [],
   "source": [
    "forward_approx.save('forward_kl_approx')"
   ]
  },
  {
   "cell_type": "markdown",
   "id": "f144b4b8",
   "metadata": {},
   "source": [
    "Once again, let's plot the mean and variance surfaces:"
   ]
  },
  {
   "cell_type": "code",
   "execution_count": 14,
   "id": "b4565334",
   "metadata": {},
   "outputs": [],
   "source": [
    "num_y_pts = num_d_pts = 100\n",
    "mpl.rcParams.update(mpl.rcParamsDefault)\n",
    "fig = plotting_helpers.plot_amortised_phi(forward_approx, y_lims, d_lims, num_y_pts, num_d_pts, 'mean', phi_ticks_dp=2)\n",
    "plt.savefig(os.path.join(fig_save_dir, 'forward_kl_mean.png'), dpi=mpl_save_dpi)"
   ]
  },
  {
   "cell_type": "code",
   "execution_count": 21,
   "id": "4e48c2f3",
   "metadata": {},
   "outputs": [],
   "source": [
    "num_y_pts = num_d_pts = 100\n",
    "mpl.rcParams.update(mpl.rcParamsDefault)\n",
    "fig = plotting_helpers.plot_amortised_phi(forward_approx, y_lims, d_lims, num_y_pts, num_d_pts, \n",
    "                                          'log_chol_diag', phi_ticks_dp=5)\n",
    "plt.savefig(os.path.join(fig_save_dir, 'forward_kl_variance.png'), dpi=mpl_save_dpi)"
   ]
  },
  {
   "cell_type": "markdown",
   "id": "ee36a004",
   "metadata": {},
   "source": [
    "Plotting the loss history:"
   ]
  },
  {
   "cell_type": "code",
   "execution_count": 17,
   "id": "abbb707c",
   "metadata": {},
   "outputs": [],
   "source": [
    "sns.set_theme(style='darkgrid')\n",
    "fig = plotting_helpers.plot_loss_history(forward_loss, y_label='Cross Entropy Loss')\n",
    "plt.savefig(os.path.join(fig_save_dir, 'forward_kl_loss.png'), dpi=mpl_save_dpi)"
   ]
  },
  {
   "cell_type": "code",
   "execution_count": null,
   "id": "d6a1795a",
   "metadata": {},
   "outputs": [],
   "source": []
  }
 ],
 "metadata": {
  "kernelspec": {
   "display_name": "Python 3 (ipykernel)",
   "language": "python",
   "name": "python3"
  },
  "language_info": {
   "codemirror_mode": {
    "name": "ipython",
    "version": 3
   },
   "file_extension": ".py",
   "mimetype": "text/x-python",
   "name": "python",
   "nbconvert_exporter": "python",
   "pygments_lexer": "ipython3",
   "version": "3.8.10"
  }
 },
 "nbformat": 4,
 "nbformat_minor": 5
}
