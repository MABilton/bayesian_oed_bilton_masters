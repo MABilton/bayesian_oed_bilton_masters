{
 "cells": [
  {
   "cell_type": "markdown",
   "id": "27bfdd20",
   "metadata": {},
   "source": [
    "# Set-Up"
   ]
  },
  {
   "cell_type": "markdown",
   "id": "72b9860c",
   "metadata": {},
   "source": [
    "Installations and imports:"
   ]
  },
  {
   "cell_type": "code",
   "execution_count": 1,
   "id": "2dfeddb9",
   "metadata": {},
   "outputs": [],
   "source": [
    "import os\n",
    "from math import ceil\n",
    "import time\n",
    "import json\n",
    "import numpy as np\n",
    "import sys\n",
    "import fenics_helpers"
   ]
  },
  {
   "cell_type": "markdown",
   "id": "788d0164",
   "metadata": {},
   "source": [
    "Save settings:"
   ]
  },
  {
   "cell_type": "code",
   "execution_count": 3,
   "id": "d0f8a244",
   "metadata": {},
   "outputs": [],
   "source": [
    "data_save_dir = './data'\n",
    "if not os.path.isdir(data_save_dir):\n",
    "    os.mkdir(data_save_dir)"
   ]
  },
  {
   "cell_type": "markdown",
   "id": "9f4c8c59",
   "metadata": {},
   "source": [
    "# Linear Beam Simulations"
   ]
  },
  {
   "cell_type": "markdown",
   "id": "c7727f23",
   "metadata": {},
   "source": [
    "We shall assume that the mesh size and $\\kappa$ parameter values found by simulating the neo-Hookean beam in Notebook \\[1\\] are sufficiently large to ensure convergence in the case of the linear beam; thus, our fixed parameters are:"
   ]
  },
  {
   "cell_type": "code",
   "execution_count": 4,
   "id": "8ce6d61c",
   "metadata": {},
   "outputs": [],
   "source": [
    "fixed_params = {# Parameters found by convergence studies in Notebook [1]:\n",
    "                'NW': 6,\n",
    "                'kappa': 3000, # in kPa\n",
    "                # Physical parameters:\n",
    "                'density': 0.00102, # in g/mm^3\n",
    "                'g': 9.81, # in m/s^3\n",
    "                # Beam mesh/geometry parameters:\n",
    "                'width': 40, # in mm\n",
    "                'length': 90, # in mm\n",
    "                'elem_order': 2,\n",
    "                # Linear solver parameters:\n",
    "                'rtol': 1e-9, \n",
    "                'atol': 1e-9, \n",
    "                'max_iter': 50}\n",
    "fixed_params['elem_size'] =  fixed_params['width']/fixed_params['NW']\n",
    "fixed_params['NL'] =  ceil(fixed_params['length']/fixed_params['elem_size'])"
   ]
  },
  {
   "cell_type": "markdown",
   "id": "4f83e49f",
   "metadata": {},
   "source": [
    "We can now create our mesh:"
   ]
  },
  {
   "cell_type": "code",
   "execution_count": 5,
   "id": "62d4c1dd",
   "metadata": {},
   "outputs": [],
   "source": [
    "mesh = fenics_helpers.create_cuboidal_mesh(*[fixed_params[key] for key in ('length', 'width', 'NL', 'NW')])"
   ]
  },
  {
   "cell_type": "markdown",
   "id": "89ac18b1",
   "metadata": {},
   "source": [
    "Define grid points for training data evaluations:"
   ]
  },
  {
   "cell_type": "code",
   "execution_count": 6,
   "id": "edc9d701",
   "metadata": {},
   "outputs": [],
   "source": [
    "num_train_pts = 10 # number of training points per dimension of grid\n",
    "min_C_1, max_C_1 = 1.9, 6.9 # in kPa\n",
    "C_1_list = [C_1 for C_1 in np.linspace(min_C_1, max_C_1, num_train_pts)]\n",
    "min_angle, max_angle = 0, 180 # in degrees\n",
    "beam_angle_list = [y for y in np.linspace(min_angle, max_angle, num_train_pts)]\n",
    "training_param_combos = fenics_helpers.create_param_combos(C_1=C_1_list, beam_angle=beam_angle_list)"
   ]
  },
  {
   "cell_type": "markdown",
   "id": "c3a75015",
   "metadata": {},
   "source": [
    "Define grid points for test data evaluations:"
   ]
  },
  {
   "cell_type": "code",
   "execution_count": 7,
   "id": "0a411dfa",
   "metadata": {},
   "outputs": [],
   "source": [
    "num_test_pts = num_train_pts-1\n",
    "delta_C_1 = (max_C_1-min_C_1)/num_test_pts\n",
    "delta_angle = (max_angle-min_angle)/num_test_pts\n",
    "C_1_list = [C_1 for C_1 in np.linspace(min_C_1+0.5*delta_C_1, max_C_1-0.5*delta_C_1, num_test_pts)]\n",
    "beam_angle_list = [angle for angle in np.linspace(min_angle+0.5*delta_angle, max_angle-0.5*delta_angle, num_test_pts)]\n",
    "test_param_combos = fenics_helpers.create_param_combos(C_1=C_1_list, beam_angle=beam_angle_list)"
   ]
  },
  {
   "cell_type": "markdown",
   "id": "89f3fcb6",
   "metadata": {},
   "source": [
    "Compute training data:"
   ]
  },
  {
   "cell_type": "code",
   "execution_count": null,
   "id": "1cd1bc9a",
   "metadata": {
    "tags": []
   },
   "outputs": [
    {
     "name": "stdout",
     "output_type": "stream",
     "text": [
      "Performing simulation 1/100 (C_1 = 1.9, Beam angle = 0.0)\n",
      "Simulation took 0.14 mins.\n",
      "\n",
      "Performing simulation 2/100 (C_1 = 1.9, Beam angle = 20.0)\n",
      "Simulation took 0.16 mins.\n",
      "\n"
     ]
    }
   ],
   "source": [
    "results = {key: [] for key in ('C_1', 'beam_angle', 'end_disp', 't_solve', 'volume')}\n",
    "for i, params in enumerate(training_param_combos):\n",
    "\n",
    "    print(f\"Performing simulation {i+1}/{len(training_param_combos)} (C_1 = {params['C_1']}, Beam angle = {params['beam_angle']})\")\n",
    "    results['C_1'].append(params['C_1'])\n",
    "    results['beam_angle'].append(params['beam_angle'])\n",
    "    \n",
    "    # Note how long each simulation takes:\n",
    "    t_start = time.time()\n",
    "    u = fenics_helpers.simulate_linear_beam(mesh, C_1=params['C_1'], beam_angle=params['beam_angle'], **fixed_params)\n",
    "    t_solve = time.time() - t_start\n",
    "    results['t_solve'].append(t_solve)\n",
    "    print(f'Simulation took {t_solve/60:.2f} mins.\\n')\n",
    "    \n",
    "    results['end_disp'].append(fenics_helpers.compute_end_displacement(u, mesh, fixed_params['width'], fixed_params['length']))\n",
    "    results['volume'].append(fenics_helpers.compute_pre_and_postdeformation_volume(u, mesh))\n",
    "\n",
    "results['fixed_params'] = fixed_params\n",
    "\n",
    "# Save results to json:\n",
    "with open(os.path.join(data_save_dir, 'linear_beam_training_data.json'), 'w') as f:\n",
    "    json.dump(results, f, indent=4)"
   ]
  },
  {
   "cell_type": "markdown",
   "id": "91cd7dc2",
   "metadata": {},
   "source": [
    "Compute test data:"
   ]
  },
  {
   "cell_type": "code",
   "execution_count": null,
   "id": "945ffaab",
   "metadata": {},
   "outputs": [],
   "source": [
    "results = {key: [] for key in ('C_1', 'beam_angle', 'end_disp', 't_solve', 'volume')}\n",
    "for i, params in enumerate(test_param_combos):\n",
    "\n",
    "    print(f\"Performing simulation {i+1}/{len(test_param_combos)} (C_1 = {params['C_1']}, Beam angle = {params['beam_angle']})\")\n",
    "    results['C_1'].append(params['C_1'])\n",
    "    results['beam_angle'].append(params['beam_angle'])\n",
    "    \n",
    "    # Note how long each simulation takes:\n",
    "    t_start = time.time()\n",
    "    u = fenics_helpers.simulate_linear_beam(mesh, C_1=params['C_1'], beam_angle=params['beam_angle'], **fixed_params)\n",
    "    t_solve = time.time() - t_start\n",
    "    results['t_solve'].append(t_solve)\n",
    "    print(f'Simulation took {t_solve/60:.2f} mins.\\n')\n",
    "    \n",
    "    results['end_disp'].append(fenics_helpers.compute_end_displacement(u, mesh, fixed_params['width'], fixed_params['length']))\n",
    "    results['volume'].append(fenics_helpers.compute_pre_and_postdeformation_volume(u, mesh))\n",
    "\n",
    "results['fixed_params'] = fixed_params\n",
    "\n",
    "# Save results to json:\n",
    "with open(os.path.join(data_save_dir, 'linear_beam_test_data.json'), 'w') as f:\n",
    "    json.dump(results, f, indent=4)"
   ]
  },
  {
   "cell_type": "code",
   "execution_count": null,
   "id": "622f0a82",
   "metadata": {},
   "outputs": [],
   "source": []
  }
 ],
 "metadata": {
  "kernelspec": {
   "display_name": "Python 3 (ipykernel)",
   "language": "python",
   "name": "python3"
  },
  "language_info": {
   "codemirror_mode": {
    "name": "ipython",
    "version": 3
   },
   "file_extension": ".py",
   "mimetype": "text/x-python",
   "name": "python",
   "nbconvert_exporter": "python",
   "pygments_lexer": "ipython3",
   "version": "3.9.7"
  }
 },
 "nbformat": 4,
 "nbformat_minor": 5
}
