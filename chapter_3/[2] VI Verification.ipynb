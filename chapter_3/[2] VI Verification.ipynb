{
 "cells": [
  {
   "cell_type": "code",
   "execution_count": 1,
   "id": "6d119613",
   "metadata": {
    "scrolled": false
   },
   "outputs": [],
   "source": [
    "import jax\n",
    "import jax.numpy as jnp\n",
    "import approx_post\n",
    "import oed_toolbox\n",
    "import seaborn as sns\n",
    "import sys\n",
    "sys.path.insert(0, '..')\n",
    "import plotting_helpers\n",
    "import computation_helpers"
   ]
  },
  {
   "cell_type": "code",
   "execution_count": 2,
   "id": "c9d34649",
   "metadata": {},
   "outputs": [],
   "source": [
    "def create_data(model, true_theta, noise_cov, num_samples, ndim, prngkey):\n",
    "    mean = model(true_theta, 0)\n",
    "    samples = jax.random.multivariate_normal(key=prngkey, mean=mean, cov=noise_cov, shape=(num_samples,))\n",
    "    return samples.reshape(num_samples, -1)"
   ]
  },
  {
   "cell_type": "code",
   "execution_count": 3,
   "id": "a94b97b2",
   "metadata": {},
   "outputs": [],
   "source": [
    "# First, let's define a model:\n",
    "ndim = 1\n",
    "model_func = lambda theta, x: theta**2\n",
    "model, model_grad = approx_post.models.from_jax(model_func)"
   ]
  },
  {
   "cell_type": "code",
   "execution_count": 28,
   "id": "525931b1",
   "metadata": {
    "scrolled": false
   },
   "outputs": [
    {
     "name": "stdout",
     "output_type": "stream",
     "text": [
      "[[1.5348189]]\n"
     ]
    }
   ],
   "source": [
    "# Create artificial data:\n",
    "prngkey = jax.random.PRNGKey(10)\n",
    "true_theta = jnp.array([1.4])\n",
    "noise_cov = 0.1*jnp.identity(ndim)\n",
    "num_samples = 1\n",
    "data = create_data(model_func, true_theta, noise_cov, num_samples, ndim, prngkey)\n",
    "print(data)"
   ]
  },
  {
   "cell_type": "code",
   "execution_count": 29,
   "id": "6d14292c",
   "metadata": {},
   "outputs": [],
   "source": [
    "# Create Gaussian approximate distribution:\n",
    "approx_dist = approx_post.distributions.approx.Gaussian(ndim)"
   ]
  },
  {
   "cell_type": "code",
   "execution_count": 30,
   "id": "b29185ee",
   "metadata": {},
   "outputs": [],
   "source": [
    "# Create Joint distribution from forward model:\n",
    "prior_mean = jnp.zeros(ndim)\n",
    "prior_cov = 0.1*jnp.identity(ndim)\n",
    "joint_dist = approx_post.distributions.joint.ModelPlusGaussian(model, noise_cov, prior_mean, prior_cov, model_grad)"
   ]
  },
  {
   "cell_type": "code",
   "execution_count": 31,
   "id": "ab0bee1d",
   "metadata": {
    "scrolled": true
   },
   "outputs": [
    {
     "name": "stdout",
     "output_type": "stream",
     "text": [
      "Loss = 16.666847229003906, Params = Jaxtainer({'mean': DeviceArray([-0.1], dtype=float32), 'log_chol_diag': DeviceArray([-0.1], dtype=float32)})\n",
      "Loss = 12.6978120803833, Params = Jaxtainer({'mean': DeviceArray([-0.1610836], dtype=float32), 'log_chol_diag': DeviceArray([-0.19540268], dtype=float32)})\n",
      "Loss = 10.637944221496582, Params = Jaxtainer({'mean': DeviceArray([-0.1804936], dtype=float32), 'log_chol_diag': DeviceArray([-0.2842539], dtype=float32)})\n",
      "Loss = 9.514630317687988, Params = Jaxtainer({'mean': DeviceArray([-0.17742707], dtype=float32), 'log_chol_diag': DeviceArray([-0.3653878], dtype=float32)})\n",
      "Loss = 8.923554420471191, Params = Jaxtainer({'mean': DeviceArray([-0.16519956], dtype=float32), 'log_chol_diag': DeviceArray([-0.43831116], dtype=float32)})\n",
      "Loss = 8.651843070983887, Params = Jaxtainer({'mean': DeviceArray([-0.15155865], dtype=float32), 'log_chol_diag': DeviceArray([-0.50304985], dtype=float32)})\n",
      "Loss = 8.562278747558594, Params = Jaxtainer({'mean': DeviceArray([-0.14082645], dtype=float32), 'log_chol_diag': DeviceArray([-0.55996084], dtype=float32)})\n",
      "Loss = 8.568047523498535, Params = Jaxtainer({'mean': DeviceArray([-0.1351966], dtype=float32), 'log_chol_diag': DeviceArray([-0.6095739], dtype=float32)})\n",
      "Loss = 8.617633819580078, Params = Jaxtainer({'mean': DeviceArray([-0.1356823], dtype=float32), 'log_chol_diag': DeviceArray([-0.6524855], dtype=float32)})\n",
      "Loss = 8.681939125061035, Params = Jaxtainer({'mean': DeviceArray([-0.14278562], dtype=float32), 'log_chol_diag': DeviceArray([-0.6892983], dtype=float32)})\n",
      "Loss = 8.74462604522705, Params = Jaxtainer({'mean': DeviceArray([-0.15689759], dtype=float32), 'log_chol_diag': DeviceArray([-0.72059256], dtype=float32)})\n",
      "Loss = 8.795906066894531, Params = Jaxtainer({'mean': DeviceArray([-0.17848176], dtype=float32), 'log_chol_diag': DeviceArray([-0.74691755], dtype=float32)})\n",
      "Loss = 8.828824043273926, Params = Jaxtainer({'mean': DeviceArray([-0.20809357], dtype=float32), 'log_chol_diag': DeviceArray([-0.76879466], dtype=float32)})\n",
      "Loss = 8.837310791015625, Params = Jaxtainer({'mean': DeviceArray([-0.24627057], dtype=float32), 'log_chol_diag': DeviceArray([-0.7867288], dtype=float32)})\n",
      "Loss = 8.815502166748047, Params = Jaxtainer({'mean': DeviceArray([-0.29333586], dtype=float32), 'log_chol_diag': DeviceArray([-0.8012257], dtype=float32)})\n",
      "Loss = 8.758438110351562, Params = Jaxtainer({'mean': DeviceArray([-0.34919274], dtype=float32), 'log_chol_diag': DeviceArray([-0.8128134], dtype=float32)})\n",
      "Loss = 8.664223670959473, Params = Jaxtainer({'mean': DeviceArray([-0.41320232], dtype=float32), 'log_chol_diag': DeviceArray([-0.8220654], dtype=float32)})\n",
      "Loss = 8.53735637664795, Params = Jaxtainer({'mean': DeviceArray([-0.4841562], dtype=float32), 'log_chol_diag': DeviceArray([-0.8296234], dtype=float32)})\n",
      "Loss = 8.39211654663086, Params = Jaxtainer({'mean': DeviceArray([-0.5601945], dtype=float32), 'log_chol_diag': DeviceArray([-0.8362136], dtype=float32)})\n",
      "Loss = 8.254443168640137, Params = Jaxtainer({'mean': DeviceArray([-0.6383694], dtype=float32), 'log_chol_diag': DeviceArray([-0.84265035], dtype=float32)})\n",
      "Loss = 8.159517288208008, Params = Jaxtainer({'mean': DeviceArray([-0.71351594], dtype=float32), 'log_chol_diag': DeviceArray([-0.84981304], dtype=float32)})\n",
      "Loss = 8.13895034790039, Params = Jaxtainer({'mean': DeviceArray([-0.77688384], dtype=float32), 'log_chol_diag': DeviceArray([-0.858569], dtype=float32)})\n",
      "Loss = 8.189270973205566, Params = Jaxtainer({'mean': DeviceArray([-0.81821626], dtype=float32), 'log_chol_diag': DeviceArray([-0.86961293], dtype=float32)})\n",
      "Loss = 8.245351791381836, Params = Jaxtainer({'mean': DeviceArray([-0.8333314], dtype=float32), 'log_chol_diag': DeviceArray([-0.8832637], dtype=float32)})\n",
      "Loss = 8.233002662658691, Params = Jaxtainer({'mean': DeviceArray([-0.8261243], dtype=float32), 'log_chol_diag': DeviceArray([-0.89938647], dtype=float32)})\n",
      "Loss = 8.14622688293457, Params = Jaxtainer({'mean': DeviceArray([-0.8035731], dtype=float32), 'log_chol_diag': DeviceArray([-0.917495], dtype=float32)})\n",
      "Loss = 8.032084465026855, Params = Jaxtainer({'mean': DeviceArray([-0.7728913], dtype=float32), 'log_chol_diag': DeviceArray([-0.9369215], dtype=float32)})\n",
      "Loss = 7.939297199249268, Params = Jaxtainer({'mean': DeviceArray([-0.7409905], dtype=float32), 'log_chol_diag': DeviceArray([-0.9569703], dtype=float32)})\n",
      "Loss = 7.8897271156311035, Params = Jaxtainer({'mean': DeviceArray([-0.71402866], dtype=float32), 'log_chol_diag': DeviceArray([-0.97703207], dtype=float32)})\n",
      "Loss = 7.876013278961182, Params = Jaxtainer({'mean': DeviceArray([-0.69660795], dtype=float32), 'log_chol_diag': DeviceArray([-0.99665296], dtype=float32)})\n",
      "Loss = 7.875176429748535, Params = Jaxtainer({'mean': DeviceArray([-0.6912358], dtype=float32), 'log_chol_diag': DeviceArray([-1.0155606], dtype=float32)})\n",
      "Loss = 7.864723205566406, Params = Jaxtainer({'mean': DeviceArray([-0.69842976], dtype=float32), 'log_chol_diag': DeviceArray([-1.0336583], dtype=float32)})\n",
      "Loss = 7.831818580627441, Params = Jaxtainer({'mean': DeviceArray([-0.71719885], dtype=float32), 'log_chol_diag': DeviceArray([-1.0510014], dtype=float32)})\n",
      "Loss = 7.775189399719238, Params = Jaxtainer({'mean': DeviceArray([-0.74548686], dtype=float32), 'log_chol_diag': DeviceArray([-1.067768], dtype=float32)})\n",
      "Loss = 7.703376770019531, Params = Jaxtainer({'mean': DeviceArray([-0.7803937], dtype=float32), 'log_chol_diag': DeviceArray([-1.0842253], dtype=float32)})\n",
      "Loss = 7.631256580352783, Params = Jaxtainer({'mean': DeviceArray([-0.81820357], dtype=float32), 'log_chol_diag': DeviceArray([-1.1006935], dtype=float32)})\n",
      "Loss = 7.574426651000977, Params = Jaxtainer({'mean': DeviceArray([-0.85441804], dtype=float32), 'log_chol_diag': DeviceArray([-1.1175002], dtype=float32)})\n",
      "Loss = 7.541074275970459, Params = Jaxtainer({'mean': DeviceArray([-0.8841908], dtype=float32), 'log_chol_diag': DeviceArray([-1.1349258], dtype=float32)})\n",
      "Loss = 7.524862766265869, Params = Jaxtainer({'mean': DeviceArray([-0.90350163], dtype=float32), 'log_chol_diag': DeviceArray([-1.153146], dtype=float32)})\n",
      "Loss = 7.507330894470215, Params = Jaxtainer({'mean': DeviceArray([-0.9105949], dtype=float32), 'log_chol_diag': DeviceArray([-1.1721889], dtype=float32)})\n",
      "Loss = 7.4728899002075195, Params = Jaxtainer({'mean': DeviceArray([-0.90651995], dtype=float32), 'log_chol_diag': DeviceArray([-1.1919295], dtype=float32)})\n",
      "Loss = 7.422214031219482, Params = Jaxtainer({'mean': DeviceArray([-0.8945051], dtype=float32), 'log_chol_diag': DeviceArray([-1.2121248], dtype=float32)})\n",
      "Loss = 7.369386672973633, Params = Jaxtainer({'mean': DeviceArray([-0.878916], dtype=float32), 'log_chol_diag': DeviceArray([-1.2324733], dtype=float32)})\n",
      "Loss = 7.328299522399902, Params = Jaxtainer({'mean': DeviceArray([-0.8642764], dtype=float32), 'log_chol_diag': DeviceArray([-1.2526765], dtype=float32)})\n",
      "Loss = 7.302542686462402, Params = Jaxtainer({'mean': DeviceArray([-0.8543999], dtype=float32), 'log_chol_diag': DeviceArray([-1.2724897], dtype=float32)})\n",
      "Loss = 7.2853217124938965, Params = Jaxtainer({'mean': DeviceArray([-0.85173565], dtype=float32), 'log_chol_diag': DeviceArray([-1.2917506], dtype=float32)})\n",
      "Loss = 7.266412258148193, Params = Jaxtainer({'mean': DeviceArray([-0.85708946], dtype=float32), 'log_chol_diag': DeviceArray([-1.3103892], dtype=float32)})\n",
      "Loss = 7.239478588104248, Params = Jaxtainer({'mean': DeviceArray([-0.8697085], dtype=float32), 'log_chol_diag': DeviceArray([-1.32842], dtype=float32)})\n",
      "Loss = 7.205263137817383, Params = Jaxtainer({'mean': DeviceArray([-0.88755643], dtype=float32), 'log_chol_diag': DeviceArray([-1.3459232], dtype=float32)})\n"
     ]
    }
   ],
   "source": [
    "reverse_approx = approx_post.distributions.approx.Gaussian(ndim)\n",
    "prngkey = jax.random.PRNGKey(12)\n",
    "loss = approx_post.losses.ELBO(joint_dist, use_reparameterisation=True)\n",
    "optimiser = approx_post.optimisers.Adam()\n",
    "loss = optimiser.fit(reverse_approx, loss, data, prngkey, verbose=True, max_iter=50, num_samples=1000)"
   ]
  },
  {
   "cell_type": "code",
   "execution_count": 33,
   "id": "b6c4eb56",
   "metadata": {
    "scrolled": true
   },
   "outputs": [
    {
     "name": "stdout",
     "output_type": "stream",
     "text": [
      "Loss = 0.0013928820844739676, Params = Jaxtainer({'mean': DeviceArray([-0.09997419], dtype=float32), 'log_chol_diag': DeviceArray([-0.09997019], dtype=float32)})\n",
      "Loss = 0.0014529937179759145, Params = Jaxtainer({'mean': DeviceArray([-0.04493093], dtype=float32), 'log_chol_diag': DeviceArray([-0.03509241], dtype=float32)})\n",
      "Loss = 0.0014043169794604182, Params = Jaxtainer({'mean': DeviceArray([0.00011192], dtype=float32), 'log_chol_diag': DeviceArray([0.02625299], dtype=float32)})\n",
      "Loss = 0.0013882374623790383, Params = Jaxtainer({'mean': DeviceArray([0.02833836], dtype=float32), 'log_chol_diag': DeviceArray([0.05458508], dtype=float32)})\n",
      "Loss = 0.0013893956784158945, Params = Jaxtainer({'mean': DeviceArray([0.04289727], dtype=float32), 'log_chol_diag': DeviceArray([0.05128642], dtype=float32)})\n",
      "Loss = 0.0013915877789258957, Params = Jaxtainer({'mean': DeviceArray([0.04241741], dtype=float32), 'log_chol_diag': DeviceArray([0.02851952], dtype=float32)})\n",
      "Loss = 0.0013936342438682914, Params = Jaxtainer({'mean': DeviceArray([0.02510864], dtype=float32), 'log_chol_diag': DeviceArray([-0.00303513], dtype=float32)})\n",
      "Loss = 0.0013964358950033784, Params = Jaxtainer({'mean': DeviceArray([-0.00746684], dtype=float32), 'log_chol_diag': DeviceArray([-0.03377749], dtype=float32)})\n",
      "Loss = 0.0014026393182575703, Params = Jaxtainer({'mean': DeviceArray([-0.04825065], dtype=float32), 'log_chol_diag': DeviceArray([-0.05437589], dtype=float32)})\n",
      "Loss = 0.0014139334671199322, Params = Jaxtainer({'mean': DeviceArray([-0.08136893], dtype=float32), 'log_chol_diag': DeviceArray([-0.05837403], dtype=float32)})\n",
      "Loss = 0.0014224301557987928, Params = Jaxtainer({'mean': DeviceArray([-0.0907055], dtype=float32), 'log_chol_diag': DeviceArray([-0.0463016], dtype=float32)})\n",
      "Loss = 0.0014180425787344575, Params = Jaxtainer({'mean': DeviceArray([-0.07962483], dtype=float32), 'log_chol_diag': DeviceArray([-0.02447396], dtype=float32)})\n",
      "Loss = 0.0014045566786080599, Params = Jaxtainer({'mean': DeviceArray([-0.05812227], dtype=float32), 'log_chol_diag': DeviceArray([-0.0013631], dtype=float32)})\n",
      "Loss = 0.0013928749831393361, Params = Jaxtainer({'mean': DeviceArray([-0.03397381], dtype=float32), 'log_chol_diag': DeviceArray([0.0153058], dtype=float32)})\n",
      "Loss = 0.0013880226761102676, Params = Jaxtainer({'mean': DeviceArray([-0.01181005], dtype=float32), 'log_chol_diag': DeviceArray([0.02141786], dtype=float32)})\n",
      "Loss = 0.0013879046309739351, Params = Jaxtainer({'mean': DeviceArray([0.0050921], dtype=float32), 'log_chol_diag': DeviceArray([0.01696287], dtype=float32)})\n",
      "Loss = 0.0013900547055527568, Params = Jaxtainer({'mean': DeviceArray([0.01349989], dtype=float32), 'log_chol_diag': DeviceArray([0.00466603], dtype=float32)})\n",
      "Loss = 0.0013932656729593873, Params = Jaxtainer({'mean': DeviceArray([0.01070651], dtype=float32), 'log_chol_diag': DeviceArray([-0.01135756], dtype=float32)})\n",
      "Loss = 0.0013967342674732208, Params = Jaxtainer({'mean': DeviceArray([-0.00377309], dtype=float32), 'log_chol_diag': DeviceArray([-0.02656909], dtype=float32)})\n",
      "Loss = 0.0014002163661643863, Params = Jaxtainer({'mean': DeviceArray([-0.02701111], dtype=float32), 'log_chol_diag': DeviceArray([-0.03693009], dtype=float32)})\n",
      "Loss = 0.001403961330652237, Params = Jaxtainer({'mean': DeviceArray([-0.05258022], dtype=float32), 'log_chol_diag': DeviceArray([-0.03982997], dtype=float32)})\n",
      "Loss = 0.0014073096681386232, Params = Jaxtainer({'mean': DeviceArray([-0.07197946], dtype=float32), 'log_chol_diag': DeviceArray([-0.03477814], dtype=float32)})\n",
      "Loss = 0.0014079045504331589, Params = Jaxtainer({'mean': DeviceArray([-0.07932957], dtype=float32), 'log_chol_diag': DeviceArray([-0.02365567], dtype=float32)})\n",
      "Loss = 0.0014041330432519317, Params = Jaxtainer({'mean': DeviceArray([-0.07465931], dtype=float32), 'log_chol_diag': DeviceArray([-0.01030984], dtype=float32)})\n",
      "Loss = 0.001397854764945805, Params = Jaxtainer({'mean': DeviceArray([-0.06158773], dtype=float32), 'log_chol_diag': DeviceArray([0.00069955], dtype=float32)})\n",
      "Loss = 0.0013925733510404825, Params = Jaxtainer({'mean': DeviceArray([-0.04434058], dtype=float32), 'log_chol_diag': DeviceArray([0.00588268], dtype=float32)})\n",
      "Loss = 0.0013901327038183808, Params = Jaxtainer({'mean': DeviceArray([-0.02677844], dtype=float32), 'log_chol_diag': DeviceArray([0.00406876], dtype=float32)})\n",
      "Loss = 0.0013904762454330921, Params = Jaxtainer({'mean': DeviceArray([-0.01262127], dtype=float32), 'log_chol_diag': DeviceArray([-0.00353312], dtype=float32)})\n",
      "Loss = 0.001392857637256384, Params = Jaxtainer({'mean': DeviceArray([-0.00545274], dtype=float32), 'log_chol_diag': DeviceArray([-0.014039], dtype=float32)})\n",
      "Loss = 0.001396156381815672, Params = Jaxtainer({'mean': DeviceArray([-0.00765213], dtype=float32), 'log_chol_diag': DeviceArray([-0.02390466], dtype=float32)})\n",
      "Loss = 0.001399142318405211, Params = Jaxtainer({'mean': DeviceArray([-0.01890738], dtype=float32), 'log_chol_diag': DeviceArray([-0.0300799], dtype=float32)})\n",
      "Loss = 0.0014010982122272253, Params = Jaxtainer({'mean': DeviceArray([-0.03579014], dtype=float32), 'log_chol_diag': DeviceArray([-0.03095153], dtype=float32)})\n",
      "Loss = 0.0014018929796293378, Params = Jaxtainer({'mean': DeviceArray([-0.05275865], dtype=float32), 'log_chol_diag': DeviceArray([-0.02668152], dtype=float32)})\n",
      "Loss = 0.001401479123160243, Params = Jaxtainer({'mean': DeviceArray([-0.0643866], dtype=float32), 'log_chol_diag': DeviceArray([-0.01897248], dtype=float32)})\n",
      "Loss = 0.0013997131027281284, Params = Jaxtainer({'mean': DeviceArray([-0.06778289], dtype=float32), 'log_chol_diag': DeviceArray([-0.0105259], dtype=float32)})\n",
      "Loss = 0.0013969452120363712, Params = Jaxtainer({'mean': DeviceArray([-0.06314625], dtype=float32), 'log_chol_diag': DeviceArray([-0.00423712], dtype=float32)})\n",
      "Loss = 0.0013942444929853082, Params = Jaxtainer({'mean': DeviceArray([-0.05264413], dtype=float32), 'log_chol_diag': DeviceArray([-0.00219175], dtype=float32)})\n",
      "Loss = 0.001392705482430756, Params = Jaxtainer({'mean': DeviceArray([-0.03935285], dtype=float32), 'log_chol_diag': DeviceArray([-0.00489606], dtype=float32)})\n",
      "Loss = 0.0013928700936958194, Params = Jaxtainer({'mean': DeviceArray([-0.02681309], dtype=float32), 'log_chol_diag': DeviceArray([-0.01113467], dtype=float32)})\n",
      "Loss = 0.0013945871032774448, Params = Jaxtainer({'mean': DeviceArray([-0.01861738], dtype=float32), 'log_chol_diag': DeviceArray([-0.01845914], dtype=float32)})\n",
      "Loss = 0.0013970037689432502, Params = Jaxtainer({'mean': DeviceArray([-0.01737242], dtype=float32), 'log_chol_diag': DeviceArray([-0.02413389], dtype=float32)})\n",
      "Loss = 0.0013989484868943691, Params = Jaxtainer({'mean': DeviceArray([-0.02340218], dtype=float32), 'log_chol_diag': DeviceArray([-0.02622555], dtype=float32)})\n",
      "Loss = 0.001399679807946086, Params = Jaxtainer({'mean': DeviceArray([-0.03437533], dtype=float32), 'log_chol_diag': DeviceArray([-0.0243085], dtype=float32)})\n",
      "Loss = 0.0013992198510095477, Params = Jaxtainer({'mean': DeviceArray([-0.04626174], dtype=float32), 'log_chol_diag': DeviceArray([-0.01945176], dtype=float32)})\n",
      "Loss = 0.0013980511575937271, Params = Jaxtainer({'mean': DeviceArray([-0.05505776], dtype=float32), 'log_chol_diag': DeviceArray([-0.0136475], dtype=float32)})\n",
      "Loss = 0.0013966452097520232, Params = Jaxtainer({'mean': DeviceArray([-0.05831075], dtype=float32), 'log_chol_diag': DeviceArray([-0.00904292], dtype=float32)})\n",
      "Loss = 0.0013953446177765727, Params = Jaxtainer({'mean': DeviceArray([-0.05562081], dtype=float32), 'log_chol_diag': DeviceArray([-0.00722135], dtype=float32)})\n",
      "Loss = 0.001394494785927236, Params = Jaxtainer({'mean': DeviceArray([-0.04829191], dtype=float32), 'log_chol_diag': DeviceArray([-0.0086901], dtype=float32)})\n",
      "Loss = 0.0013944350648671389, Params = Jaxtainer({'mean': DeviceArray([-0.03878929], dtype=float32), 'log_chol_diag': DeviceArray([-0.01272176], dtype=float32)})\n"
     ]
    }
   ],
   "source": [
    "forward_approx = approx_post.distributions.approx.Gaussian(ndim)\n",
    "prngkey = jax.random.PRNGKey(12)\n",
    "loss = approx_post.losses.ForwardKL(joint_dist, use_reparameterisation=False)\n",
    "optimiser = approx_post.optimisers.Adam()\n",
    "loss = optimiser.fit(forward_approx, loss, data, prngkey, verbose=True, max_iter=50, num_samples=1000)"
   ]
  },
  {
   "cell_type": "markdown",
   "id": "e26fede5",
   "metadata": {},
   "source": [
    "Create true posterior:"
   ]
  },
  {
   "cell_type": "code",
   "execution_count": 34,
   "id": "02303ea6",
   "metadata": {},
   "outputs": [],
   "source": [
    "true_posterior = computation_helpers.construct_true_posterior(model_func, noise_cov, prior_mean, prior_cov,\n",
    "                                                              theta_lims=(-5,5))"
   ]
  },
  {
   "cell_type": "code",
   "execution_count": 36,
   "id": "f4fe9ba1",
   "metadata": {},
   "outputs": [
    {
     "data": {
      "image/png": "[encoded data removed]",
      "text/plain": [
       "<Figure size 432x288 with 1 Axes>"
      ]
     },
     "metadata": {},
     "output_type": "display_data"
    }
   ],
   "source": [
    "theta_plot = jnp.linspace(-3,3,1000).reshape(-1,1)\n",
    "pdfs = {'True posterior': true_posterior(theta_plot, data, 0),\n",
    "        'Forward KL Approximation': jnp.exp(forward_approx.logpdf(theta_plot)),\n",
    "        'Reverse KL Approximation': jnp.exp(reverse_approx.logpdf(theta_plot))}\n",
    "plotting_helpers.plot_distributions(pdfs, theta_plot, 'Parameter $\\\\theta$')"
   ]
  },
  {
   "cell_type": "code",
   "execution_count": null,
   "id": "d261a33a",
   "metadata": {},
   "outputs": [],
   "source": []
  }
 ],
 "metadata": {
  "kernelspec": {
   "display_name": "Python 3 (ipykernel)",
   "language": "python",
   "name": "python3"
  },
  "language_info": {
   "codemirror_mode": {
    "name": "ipython",
    "version": 3
   },
   "file_extension": ".py",
   "mimetype": "text/x-python",
   "name": "python",
   "nbconvert_exporter": "python",
   "pygments_lexer": "ipython3",
   "version": "3.8.10"
  }
 },
 "nbformat": 4,
 "nbformat_minor": 5
}
