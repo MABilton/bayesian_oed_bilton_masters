{
 "cells": [
  {
   "cell_type": "code",
   "execution_count": null,
   "id": "8793b7ef-10a2-44e3-a888-eef0bc2cf288",
   "metadata": {},
   "outputs": [],
   "source": [
    "from math import ceil\n",
    "import time\n",
    "import json\n",
    "import numpy as np\n",
    "import sys\n",
    "sys.path.insert(0, '/root/shared/fenics_models')\n",
    "import fenics_helpers"
   ]
  },
  {
   "cell_type": "code",
   "execution_count": null,
   "id": "02f7bcf3-f05a-44b7-8009-734d9d7a34ef",
   "metadata": {},
   "outputs": [],
   "source": [
    "fixed_params = {'C_1': 1.67, 'density': 0.00102, 'g': 9.81, 'width': 40, 'length': 90, 'num_steps':20, \n",
    "                'num_elem_width': 10, 'num_elem_length': 27, 'rtol': 1e-3, 'atol': 1e-3, 'elem_order': 2}\n",
    "\n",
    "mesh = fenics_helpers.create_cuboidal_mesh(fixed_params['length'], fixed_params['width'], \n",
    "                                           fixed_params['num_elem_length'], fixed_params['num_elem_width']) \n",
    " \n",
    "# Perform convergence study:\n",
    "lambda_list = []\n",
    "for i, elem_size in enumerate(elem_size_list):\n",
    "    \n",
    "    NL, NW = ceil(fixed_params['length']/elem_size), ceil(fixed_params['width']/elem_size)\n",
    "\n",
    "    print(f\"Simulating Mesh {i+1}/{len(elem_size_list)} (Num elem = {NL*NW*NW})\")\n",
    "    results['num_elem_width'].append(NW)\n",
    "    results['num_elem_length'].append(NL)\n",
    "    results['elem_size'].append(elem_size)\n",
    "    results['num_elem'].append(NL*NW*NW)\n",
    "\n",
    "    \n",
    "\n",
    "    u = fenics_helpers.simulate_linear_beam(mesh, **fixed_params)\n",
    "    \n",
    "    results['end_disp'].append(fenics_helpers.compute_end_displacement(u, mesh, fixed_params['width'], fixed_params['length']))\n",
    "    results['volume'].append(fenics_helpers.compute_pre_and_postdeformation_volume(u, mesh))\n",
    "\n",
    "results['fixed_params'] = fixed_params\n",
    "\n",
    "# Save results to json:\n",
    "with open('neohookean_beam_meshsize_convergence.json', 'w') as f:\n",
    "    json.dump(results, f, indent=4)"
   ]
  }
 ],
 "metadata": {
  "kernelspec": {
   "display_name": "Python 3 (ipykernel)",
   "language": "python",
   "name": "python3"
  },
  "language_info": {
   "codemirror_mode": {
    "name": "ipython",
    "version": 3
   },
   "file_extension": ".py",
   "mimetype": "text/x-python",
   "name": "python",
   "nbconvert_exporter": "python",
   "pygments_lexer": "ipython3",
   "version": "3.9.5"
  }
 },
 "nbformat": 4,
 "nbformat_minor": 5
}
