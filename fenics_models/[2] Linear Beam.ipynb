{
 "cells": [
  {
   "cell_type": "markdown",
   "id": "206b34bc-be95-4dd5-9fbf-39fe9b2cd442",
   "metadata": {},
   "source": [
    "# Set-Up"
   ]
  },
  {
   "cell_type": "markdown",
   "id": "cfb07835-ea07-4825-b96a-a0bb82ca85dd",
   "metadata": {},
   "source": [
    "Installations and imports:"
   ]
  },
  {
   "cell_type": "code",
   "execution_count": null,
   "id": "8793b7ef-10a2-44e3-a888-eef0bc2cf288",
   "metadata": {},
   "outputs": [],
   "source": [
    "fenics_dir = '/root/shared/fenics_models'\n",
    "# !pip install seaborn matplotlib\n",
    "import os\n",
    "from math import ceil\n",
    "import time\n",
    "import json\n",
    "import numpy as np\n",
    "import sys\n",
    "import seaborn as sns\n",
    "import matplotlib as mpl\n",
    "import matplotlib.pyplot as plt\n",
    "sys.path.insert(0, fenics_dir)\n",
    "import fenics_helpers"
   ]
  },
  {
   "cell_type": "markdown",
   "id": "6f7829fb-105a-487c-8814-cf2362fc534e",
   "metadata": {},
   "source": [
    "Plotting settings:"
   ]
  },
  {
   "cell_type": "code",
   "execution_count": null,
   "id": "98ef5a36-dc4f-4221-b82e-fc1029e7b595",
   "metadata": {},
   "outputs": [],
   "source": [
    "sns.set_style(\"darkgrid\", {\"grid.color\": \".6\", \"grid.linestyle\": \":\"})\n",
    "mpl.rcParams['figure.dpi'] = 100\n",
    "mpl_save_dpi = 300"
   ]
  },
  {
   "cell_type": "markdown",
   "id": "219aa836-9a29-49c0-ab08-f885e08fbd0b",
   "metadata": {},
   "source": [
    "Save settings:"
   ]
  },
  {
   "cell_type": "code",
   "execution_count": null,
   "id": "4b344c3e-af30-4ea2-bec7-db07c845bcad",
   "metadata": {},
   "outputs": [],
   "source": [
    "fig_save_dir = os.path.join(fenics_dir, 'figs')\n",
    "if not os.path.isdir(fig_save_dir):\n",
    "    os.mkdir(fig_save_dir)\n",
    "data_save_dir = os.path.join(fenics_dir, 'data')\n",
    "if not os.path.isdir(data_save_dir):\n",
    "    os.mkdir(data_save_dir)"
   ]
  },
  {
   "cell_type": "markdown",
   "id": "00494822-539f-4731-8ed9-adbb2f37894d",
   "metadata": {},
   "source": [
    "# Linear Beam Simulations"
   ]
  },
  {
   "cell_type": "markdown",
   "id": "d4bb7218-bb01-4e4e-a99b-9eb1dffaf567",
   "metadata": {},
   "source": [
    "We shall assume that the mesh size and $\\kappa$ parameter values found by simulating the neo-Hookean beam in Notebook \\[1\\] are sufficiently large to ensure convergence in the case of the linear beam; thus, our fixed parameters are:"
   ]
  },
  {
   "cell_type": "code",
   "execution_count": null,
   "id": "d10041fb-343c-43b0-8b41-163c963fb050",
   "metadata": {},
   "outputs": [],
   "source": [
    "fixed_params = {# Parameters found by convergence studies in Notebook [1]:\n",
    "                'NW': 6,\n",
    "                'kappa': 3000, # in kPa\n",
    "                # Physical parameters:\n",
    "                'density': 0.00102, # in g/mm^3\n",
    "                'g': 9.81, # in m/s^3\n",
    "               # Beam mesh/geometry parameters:\n",
    "                'width': 40, # in mm\n",
    "                'length': 90, # in mm\n",
    "                'elem_order': 2,\n",
    "                # Linear solver parameters:\n",
    "                'rtol': 1e-9, \n",
    "                'atol': 1e-9, \n",
    "                'max_iter': 50}\n",
    "fixed_params['elem_size'] =  fixed_params['width']/fixed_params['NW']\n",
    "fixed_params['NL'] =  ceil(fixed_params['length']/fixed_params['elem_size'])"
   ]
  },
  {
   "cell_type": "markdown",
   "id": "11530d95-def1-4cb5-a9f0-e62a75e9fdba",
   "metadata": {},
   "source": [
    "We can now create our mesh:"
   ]
  },
  {
   "cell_type": "code",
   "execution_count": null,
   "id": "1eda7630-29a6-4ded-a47f-ce764efaa6a5",
   "metadata": {},
   "outputs": [],
   "source": [
    "mesh = fenics_helpers.create_cuboidal_mesh(*[fixed_params[key] for key in ('length', 'width', 'NL', 'NW')])"
   ]
  },
  {
   "cell_type": "markdown",
   "id": "c7a313a4-3b3b-4673-9742-f45708d5cda9",
   "metadata": {},
   "source": [
    "Define grid points for training data evaluations:"
   ]
  },
  {
   "cell_type": "code",
   "execution_count": null,
   "id": "02f7bcf3-f05a-44b7-8009-734d9d7a34ef",
   "metadata": {},
   "outputs": [],
   "source": [
    "num_train_pts = 10 # number of training points per dimension of grid\n",
    "min_C_1, max_C_1 = 1.9, 6.9 # in kPa\n",
    "C_1_list = [C_1 for C_1 in np.linspace(min_C_1, max_C_1, num_train_pts)]\n",
    "min_angle, max_angle = 0, 180 # in degrees\n",
    "beam_angle_list = [y for y in np.linspace(min_angle, max_angle, num_train_pts)]\n",
    "training_param_combos = fenics_helpers.create_param_combos(C_1=C_1_list, beam_angle=beam_angle_list)"
   ]
  },
  {
   "cell_type": "markdown",
   "id": "8d8f94cd-0172-4669-a860-afe17f948bad",
   "metadata": {},
   "source": [
    "Define grid points for test data evaluations:"
   ]
  },
  {
   "cell_type": "code",
   "execution_count": null,
   "id": "cf0a62e7-94fb-4e2c-8d1f-7751b408826c",
   "metadata": {},
   "outputs": [],
   "source": [
    "num_test_pts = num_train_pts-1\n",
    "delta_C_1 = (max_C_1-min_C_1)/num_test_pts\n",
    "delta_angle = (max_angle-min_angle)/num_test_pts\n",
    "C_1_list = [C_1 for C_1 in np.linspace(min_C_1+0.5*delta_C_1, max_C_1-0.5*delta_C_1, num_test_pts)]\n",
    "beam_angle_list = [angle for angle in np.linspace(min_angle+0.5*delta_angle, max_angle-0.5*delta_angle, num_test_pts)]\n",
    "test_param_combos = fenics_helpers.create_param_combos(C_1=C_1_list, beam_angle=beam_angle_list)"
   ]
  },
  {
   "cell_type": "markdown",
   "id": "2d814c41-c8b0-41f5-ab16-4f56a3790d9d",
   "metadata": {},
   "source": [
    "Compute training data:"
   ]
  },
  {
   "cell_type": "code",
   "execution_count": null,
   "id": "03199f8f-1fee-4350-baec-4c82a70fd7e4",
   "metadata": {},
   "outputs": [],
   "source": [
    "results = {key: [] for key in ('C_1', 'beam_angle', 'end_disp', 't_solve', 'volume')}\n",
    "for i, params in enumerate(training_param_combos):\n",
    "\n",
    "    print(f\"Simulating Mesh {i+1}/{len(elem_size_list)} (C_1 = {params['C_1']}, Beam angle = {params['beam_angle']})\")\n",
    "    results['C_1'].append(params['C_1'])\n",
    "    results['beam_angle'].append(params['beam_angle'])\n",
    "    \n",
    "    # Note how long each simulation takes:\n",
    "    t_start = time.time()\n",
    "    u = fenics_helpers.simulate_linear_beam(mesh, C_1=params['C_1'], beam_angle=params['beam_angle'], **fixed_params)\n",
    "    t_solve = time.time() - t_start\n",
    "    results['t_solve'].append(t_solve)\n",
    "    print(f'Simulation took {t_solve/60:.2f} mins.\\n')\n",
    "    \n",
    "    results['end_disp'].append(fenics_helpers.compute_end_displacement(u, mesh, fixed_params['width'], fixed_params['length']))\n",
    "    results['volume'].append(fenics_helpers.compute_pre_and_postdeformation_volume(u, mesh))\n",
    "\n",
    "results['fixed_params'] = fixed_params\n",
    "\n",
    "# Save results to json:\n",
    "with open('linear_beam_training_data.json', 'w') as f:\n",
    "    json.dump(results, f, indent=4)"
   ]
  },
  {
   "cell_type": "markdown",
   "id": "7cbc6838-7b5e-45f1-bd35-1fa55d7bb50d",
   "metadata": {},
   "source": [
    "Compute test data:"
   ]
  },
  {
   "cell_type": "code",
   "execution_count": null,
   "id": "9b2058fb-1d36-4301-bb71-26a5ee230570",
   "metadata": {},
   "outputs": [],
   "source": [
    "results = {key: [] for key in ('C_1', 'beam_angle', 'end_disp', 't_solve', 'volume')}\n",
    "for i, params in enumerate(test_param_combos):\n",
    "\n",
    "    print(f\"Simulating Mesh {i+1}/{len(elem_size_list)} (C_1 = {params['C_1']}, Beam angle = {params['beam_angle']})\")\n",
    "    results['C_1'].append(params['C_1'])\n",
    "    results['beam_angle'].append(params['beam_angle'])\n",
    "    \n",
    "    # Note how long each simulation takes:\n",
    "    t_start = time.time()\n",
    "    u = fenics_helpers.simulate_linear_beam(mesh, C_1=params['C_1'], beam_angle=params['beam_angle'], **fixed_params)\n",
    "    t_solve = time.time() - t_start\n",
    "    results['t_solve'].append(t_solve)\n",
    "    print(f'Simulation took {t_solve/60:.2f} mins.\\n')\n",
    "    \n",
    "    results['end_disp'].append(fenics_helpers.compute_end_displacement(u, mesh, fixed_params['width'], fixed_params['length']))\n",
    "    results['volume'].append(fenics_helpers.compute_pre_and_postdeformation_volume(u, mesh))\n",
    "\n",
    "results['fixed_params'] = fixed_params\n",
    "\n",
    "# Save results to json:\n",
    "with open('linear_beam_test_data.json', 'w') as f:\n",
    "    json.dump(results, f, indent=4)"
   ]
  }
 ],
 "metadata": {
  "kernelspec": {
   "display_name": "Python 3 (ipykernel)",
   "language": "python",
   "name": "python3"
  },
  "language_info": {
   "codemirror_mode": {
    "name": "ipython",
    "version": 3
   },
   "file_extension": ".py",
   "mimetype": "text/x-python",
   "name": "python",
   "nbconvert_exporter": "python",
   "pygments_lexer": "ipython3",
   "version": "3.9.7"
  }
 },
 "nbformat": 4,
 "nbformat_minor": 5
}
