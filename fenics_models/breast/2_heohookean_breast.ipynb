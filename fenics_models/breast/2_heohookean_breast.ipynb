{
 "cells": [
  {
   "cell_type": "markdown",
   "id": "4f7218e4-3962-437a-b11a-807c659e3942",
   "metadata": {},
   "source": [
    "# Set-Up"
   ]
  },
  {
   "cell_type": "markdown",
   "id": "4504e92d-d16e-44ad-91e1-a0c54b4929e3",
   "metadata": {},
   "source": [
    "Installations and imports:"
   ]
  },
  {
   "cell_type": "code",
   "execution_count": null,
   "id": "85f25768-96e8-451c-b8fd-b8446e3965c2",
   "metadata": {},
   "outputs": [],
   "source": [
    "import os\n",
    "from math import ceil\n",
    "import time\n",
    "import json\n",
    "import numpy as np\n",
    "import sys\n",
    "import seaborn as sns\n",
    "import matplotlib as mpl\n",
    "import matplotlib.pyplot as plt\n",
    "import fenics_helpers"
   ]
  },
  {
   "cell_type": "markdown",
   "id": "5a3a892c-5557-49b4-a8e6-a07cfc18c387",
   "metadata": {},
   "source": [
    "Plotting settings:"
   ]
  },
  {
   "cell_type": "code",
   "execution_count": null,
   "id": "da110bfd-c0c6-4cf0-aa82-2544b5e70482",
   "metadata": {},
   "outputs": [],
   "source": [
    "sns.set_style(\"darkgrid\", {\"grid.color\": \".6\", \"grid.linestyle\": \":\"})\n",
    "mpl.rcParams['figure.dpi'] = 100\n",
    "mpl_save_dpi = 300"
   ]
  },
  {
   "cell_type": "markdown",
   "id": "371a2c5b-a101-4cac-873b-dbf0ac43e003",
   "metadata": {},
   "source": [
    "Save settings:"
   ]
  },
  {
   "cell_type": "code",
   "execution_count": null,
   "id": "ecbfd3d3-d2a8-46bc-b468-2300b0c075e4",
   "metadata": {},
   "outputs": [],
   "source": [
    "fig_save_dir = './figs'\n",
    "if not os.path.isdir(fig_save_dir):\n",
    "    os.mkdir(fig_save_dir)\n",
    "data_save_dir = './data'\n",
    "if not os.path.isdir(data_save_dir):\n",
    "    os.mkdir(data_save_dir)"
   ]
  },
  {
   "cell_type": "markdown",
   "id": "c2961d5b-38b2-4f2d-b86d-778449fefa72",
   "metadata": {},
   "source": [
    "Directory of breast mesh:"
   ]
  },
  {
   "cell_type": "code",
   "execution_count": null,
   "id": "358d3b5e-5202-49bb-8d34-ae4ef903416e",
   "metadata": {},
   "outputs": [],
   "source": [
    "BREAST_DIR = './breast_closed.obj'"
   ]
  },
  {
   "cell_type": "markdown",
   "id": "e99dbd49-05d4-46c0-8cae-57a27eaaa712",
   "metadata": {},
   "source": [
    "Define parameters which never change between simulations:"
   ]
  },
  {
   "cell_type": "code",
   "execution_count": null,
   "id": "ed480c9c-a4d9-4bb6-a1ea-8e40ee2b90ba",
   "metadata": {},
   "outputs": [],
   "source": [
    "always_fixed_params = {# Physical parameters:\n",
    "                       'density': 0.00102, # in g/mm^3\n",
    "                       'g': 9.81, # in m/s^3\n",
    "                       'elem_order': 2,\n",
    "                       # Non-linear solver parameters:\n",
    "                       'num_load_steps': 30, \n",
    "                       'rtol': 1e-9, \n",
    "                       'atol': 1e-9, \n",
    "                       'max_iter': 50,\n",
    "                       'kappa': 3000} # in kPa   "
   ]
  },
  {
   "cell_type": "markdown",
   "id": "e882c400-14b0-4956-b8a9-1047b836ab86",
   "metadata": {},
   "source": [
    "# Convergence Study"
   ]
  },
  {
   "cell_type": "markdown",
   "id": "a3b4e96e-0ec9-4ffe-bcce-4d97c0e61d18",
   "metadata": {},
   "source": [
    "## Mesh Size Convergence"
   ]
  },
  {
   "cell_type": "code",
   "execution_count": null,
   "id": "084c6ff4-ae7c-46b6-94a0-5bed4160a100",
   "metadata": {},
   "outputs": [],
   "source": [
    "fixed_params = {'C_1': 1.9, # in kPa\n",
    "                'y_rot': 90, # in degrees\n",
    "                'x_rot': 0, # in degrees\n",
    "                **always_fixed_params}\n",
    "\n",
    "# Vary number of surface points on mesh:\n",
    "num_surfpts_list = [25, 50, 100, 250, 500, 750, 1000]\n",
    "\n",
    "results = {key: [] for key in ('max_disp', 'num_surfpts', 'num_elem', 'volume')}\n",
    "for i, num_surfpts in enumerate(num_surfpts_list):\n",
    "    mesh = create_breast_mesh(BREAST_DIR, num_surfpts)\n",
    "    num_elem = mesh.geometry.dofmap.array.shape[0]\n",
    "    print(f\"Simulating Mesh {i+1}/{len(num_surfpts_list)} (Num elem = {num_elem})\")\n",
    "    \n",
    "    u = fenics_helpers.simulate_neohookean_breast(mesh, **fixed_params)\n",
    "    \n",
    "    results['num_surfpts'].append(num_surfpts)\n",
    "    results['num_elem'].append(num_elem)\n",
    "    \n",
    "results['fixed_params'] = fixed_params\n",
    "\n",
    "with open(os.path.join(data_save_dir, 'neohookean_breast_meshsize_convergence.json'), 'w') as f:\n",
    "    json.dump(results, f, indent=4)"
   ]
  }
 ],
 "metadata": {
  "kernelspec": {
   "display_name": "Python 3 (ipykernel)",
   "language": "python",
   "name": "python3"
  },
  "language_info": {
   "codemirror_mode": {
    "name": "ipython",
    "version": 3
   },
   "file_extension": ".py",
   "mimetype": "text/x-python",
   "name": "python",
   "nbconvert_exporter": "python",
   "pygments_lexer": "ipython3",
   "version": "3.9.7"
  }
 },
 "nbformat": 4,
 "nbformat_minor": 5
}
