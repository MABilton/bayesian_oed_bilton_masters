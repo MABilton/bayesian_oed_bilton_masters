{
 "cells": [
  {
   "cell_type": "markdown",
   "source": [
    "# Set-Up"
   ],
   "metadata": {}
  },
  {
   "cell_type": "markdown",
   "source": [
    "Installations and imports:"
   ],
   "metadata": {}
  },
  {
   "cell_type": "code",
   "execution_count": 2,
   "source": [
    "fenics_dir = '/root/shared/fenics_models'\n",
    "import os\n",
    "from math import ceil\n",
    "import time\n",
    "import json\n",
    "import numpy as np\n",
    "import sys\n",
    "sys.path.insert(0, fenics_dir)\n",
    "import fenics_helpers"
   ],
   "outputs": [],
   "metadata": {}
  },
  {
   "cell_type": "markdown",
   "source": [
    "Save settings:"
   ],
   "metadata": {}
  },
  {
   "cell_type": "code",
   "execution_count": 3,
   "source": [
    "data_save_dir = os.path.join(fenics_dir, 'data')\n",
    "if not os.path.isdir(data_save_dir):\n",
    "    os.mkdir(data_save_dir)"
   ],
   "outputs": [],
   "metadata": {}
  },
  {
   "cell_type": "markdown",
   "source": [
    "# Linear Beam Simulations"
   ],
   "metadata": {}
  },
  {
   "cell_type": "markdown",
   "source": [
    "We shall assume that the mesh size and $\\kappa$ parameter values found by simulating the neo-Hookean beam in Notebook \\[1\\] are sufficiently large to ensure convergence in the case of the linear beam; thus, our fixed parameters are:"
   ],
   "metadata": {}
  },
  {
   "cell_type": "code",
   "execution_count": 4,
   "source": [
    "fixed_params = {# Parameters found by convergence studies in Notebook [1]:\n",
    "                'NW': 6,\n",
    "                'kappa': 3000, # in kPa\n",
    "                # Physical parameters:\n",
    "                'density': 0.00102, # in g/mm^3\n",
    "                'g': 9.81, # in m/s^3\n",
    "                # Beam mesh/geometry parameters:\n",
    "                'width': 40, # in mm\n",
    "                'length': 90, # in mm\n",
    "                'elem_order': 2,\n",
    "                # Linear solver parameters:\n",
    "                'rtol': 1e-9, \n",
    "                'atol': 1e-9, \n",
    "                'max_iter': 50}\n",
    "fixed_params['elem_size'] =  fixed_params['width']/fixed_params['NW']\n",
    "fixed_params['NL'] =  ceil(fixed_params['length']/fixed_params['elem_size'])"
   ],
   "outputs": [],
   "metadata": {}
  },
  {
   "cell_type": "markdown",
   "source": [
    "We can now create our mesh:"
   ],
   "metadata": {}
  },
  {
   "cell_type": "code",
   "execution_count": 5,
   "source": [
    "mesh = fenics_helpers.create_cuboidal_mesh(*[fixed_params[key] for key in ('length', 'width', 'NL', 'NW')])"
   ],
   "outputs": [],
   "metadata": {}
  },
  {
   "cell_type": "markdown",
   "source": [
    "Define grid points for training data evaluations:"
   ],
   "metadata": {}
  },
  {
   "cell_type": "code",
   "execution_count": 6,
   "source": [
    "num_train_pts = 10 # number of training points per dimension of grid\n",
    "min_C_1, max_C_1 = 1.9, 6.9 # in kPa\n",
    "C_1_list = [C_1 for C_1 in np.linspace(min_C_1, max_C_1, num_train_pts)]\n",
    "min_angle, max_angle = 0, 180 # in degrees\n",
    "beam_angle_list = [y for y in np.linspace(min_angle, max_angle, num_train_pts)]\n",
    "training_param_combos = fenics_helpers.create_param_combos(C_1=C_1_list, beam_angle=beam_angle_list)"
   ],
   "outputs": [],
   "metadata": {}
  },
  {
   "cell_type": "markdown",
   "source": [
    "Define grid points for test data evaluations:"
   ],
   "metadata": {}
  },
  {
   "cell_type": "code",
   "execution_count": 7,
   "source": [
    "num_test_pts = num_train_pts-1\n",
    "delta_C_1 = (max_C_1-min_C_1)/num_test_pts\n",
    "delta_angle = (max_angle-min_angle)/num_test_pts\n",
    "C_1_list = [C_1 for C_1 in np.linspace(min_C_1+0.5*delta_C_1, max_C_1-0.5*delta_C_1, num_test_pts)]\n",
    "beam_angle_list = [angle for angle in np.linspace(min_angle+0.5*delta_angle, max_angle-0.5*delta_angle, num_test_pts)]\n",
    "test_param_combos = fenics_helpers.create_param_combos(C_1=C_1_list, beam_angle=beam_angle_list)"
   ],
   "outputs": [],
   "metadata": {}
  },
  {
   "cell_type": "markdown",
   "source": [
    "Compute training data:"
   ],
   "metadata": {}
  },
  {
   "cell_type": "code",
   "execution_count": 13,
   "source": [
    "results = {key: [] for key in ('C_1', 'beam_angle', 'end_disp', 't_solve', 'volume')}\n",
    "for i, params in enumerate(training_param_combos):\n",
    "\n",
    "    print(f\"Performing simulation {i+1}/{len(training_param_combos)} (C_1 = {params['C_1']}, Beam angle = {params['beam_angle']})\")\n",
    "    results['C_1'].append(params['C_1'])\n",
    "    results['beam_angle'].append(params['beam_angle'])\n",
    "    \n",
    "    # Note how long each simulation takes:\n",
    "    t_start = time.time()\n",
    "    u = fenics_helpers.simulate_linear_beam(mesh, C_1=params['C_1'], beam_angle=params['beam_angle'], **fixed_params)\n",
    "    t_solve = time.time() - t_start\n",
    "    results['t_solve'].append(t_solve)\n",
    "    print(f'Simulation took {t_solve/60:.2f} mins.\\n')\n",
    "    \n",
    "    results['end_disp'].append(fenics_helpers.compute_end_displacement(u, mesh, fixed_params['width'], fixed_params['length']))\n",
    "    results['volume'].append(fenics_helpers.compute_pre_and_postdeformation_volume(u, mesh))\n",
    "\n",
    "results['fixed_params'] = fixed_params\n",
    "\n",
    "# Save results to json:\n",
    "with open(os.path.join(data_save_dir, 'linear_beam_training_data.json'), 'w') as f:\n",
    "    json.dump(results, f, indent=4)"
   ],
   "outputs": [
    {
     "output_type": "stream",
     "name": "stdout",
     "text": [
      "Performing simulation 1/100 (C_1 = 1.9, Beam angle = 0.0)\n"
     ]
    },
    {
     "output_type": "error",
     "ename": "Error",
     "evalue": "error code 55\n[0] PetscOptionsSetValue() at /usr/local/petsc/src/sys/objects/options.c:1165\n[0] PetscOptionsSetValue_Private() at /usr/local/petsc/src/sys/objects/options.c:1215\n[0] Out of memory. Allocated: 0, Used by process: 470536192\n[0] Number of options 512 < max number of options 512, can not allocate enough space",
     "traceback": [
      "\u001b[0;31m---------------------------------------------------------------------------\u001b[0m",
      "\u001b[0;31mError\u001b[0m                                     Traceback (most recent call last)",
      "Input \u001b[0;32mIn [13]\u001b[0m, in \u001b[0;36m<cell line: 2>\u001b[0;34m()\u001b[0m\n\u001b[1;32m      8\u001b[0m \u001b[38;5;66;03m# Note how long each simulation takes:\u001b[39;00m\n\u001b[1;32m      9\u001b[0m t_start \u001b[38;5;241m=\u001b[39m time\u001b[38;5;241m.\u001b[39mtime()\n\u001b[0;32m---> 10\u001b[0m u \u001b[38;5;241m=\u001b[39m \u001b[43mfenics_helpers\u001b[49m\u001b[38;5;241;43m.\u001b[39;49m\u001b[43msimulate_linear_beam\u001b[49m\u001b[43m(\u001b[49m\u001b[43mmesh\u001b[49m\u001b[43m,\u001b[49m\u001b[43m \u001b[49m\u001b[43mC_1\u001b[49m\u001b[38;5;241;43m=\u001b[39;49m\u001b[43mparams\u001b[49m\u001b[43m[\u001b[49m\u001b[38;5;124;43m'\u001b[39;49m\u001b[38;5;124;43mC_1\u001b[39;49m\u001b[38;5;124;43m'\u001b[39;49m\u001b[43m]\u001b[49m\u001b[43m,\u001b[49m\u001b[43m \u001b[49m\u001b[43mbeam_angle\u001b[49m\u001b[38;5;241;43m=\u001b[39;49m\u001b[43mparams\u001b[49m\u001b[43m[\u001b[49m\u001b[38;5;124;43m'\u001b[39;49m\u001b[38;5;124;43mbeam_angle\u001b[39;49m\u001b[38;5;124;43m'\u001b[39;49m\u001b[43m]\u001b[49m\u001b[43m,\u001b[49m\u001b[43m \u001b[49m\u001b[38;5;241;43m*\u001b[39;49m\u001b[38;5;241;43m*\u001b[39;49m\u001b[43mfixed_params\u001b[49m\u001b[43m)\u001b[49m\n\u001b[1;32m     11\u001b[0m t_solve \u001b[38;5;241m=\u001b[39m time\u001b[38;5;241m.\u001b[39mtime() \u001b[38;5;241m-\u001b[39m t_start\n\u001b[1;32m     12\u001b[0m results[\u001b[38;5;124m'\u001b[39m\u001b[38;5;124mt_solve\u001b[39m\u001b[38;5;124m'\u001b[39m]\u001b[38;5;241m.\u001b[39mappend(t_solve)\n",
      "File \u001b[0;32m~/shared/fenics_models/fenics_helpers.py:118\u001b[0m, in \u001b[0;36msimulate_linear_beam\u001b[0;34m(mesh, beam_angle, C_1, kappa, density, g, elem_order, rtol, atol, **ignored_kwargs)\u001b[0m\n\u001b[1;32m    116\u001b[0m lambda_ \u001b[38;5;241m=\u001b[39m \u001b[38;5;241m2\u001b[39m\u001b[38;5;241m*\u001b[39mkappa\n\u001b[1;32m    117\u001b[0m f \u001b[38;5;241m=\u001b[39m _create_load_vector(beam_angle, density, g)\n\u001b[0;32m--> 118\u001b[0m problem \u001b[38;5;241m=\u001b[39m \u001b[43m_create_linear_beam_problem\u001b[49m\u001b[43m(\u001b[49m\u001b[43mmesh\u001b[49m\u001b[43m,\u001b[49m\u001b[43m \u001b[49m\u001b[43mmu\u001b[49m\u001b[43m,\u001b[49m\u001b[43m \u001b[49m\u001b[43mlambda_\u001b[49m\u001b[43m,\u001b[49m\u001b[43m \u001b[49m\u001b[43mf\u001b[49m\u001b[43m,\u001b[49m\u001b[43m \u001b[49m\u001b[43mV\u001b[49m\u001b[43m,\u001b[49m\u001b[43m \u001b[49m\u001b[43mbcs\u001b[49m\u001b[43m,\u001b[49m\u001b[43m \u001b[49m\u001b[43matol\u001b[49m\u001b[43m,\u001b[49m\u001b[43m \u001b[49m\u001b[43mrtol\u001b[49m\u001b[43m)\u001b[49m\n\u001b[1;32m    119\u001b[0m u \u001b[38;5;241m=\u001b[39m problem\u001b[38;5;241m.\u001b[39msolve()\n\u001b[1;32m    120\u001b[0m \u001b[38;5;28;01mreturn\u001b[39;00m u\n",
      "File \u001b[0;32m~/shared/fenics_models/fenics_helpers.py:234\u001b[0m, in \u001b[0;36m_create_linear_beam_problem\u001b[0;34m(mesh, mu, lambda_, f, V, bc, atol, rtol)\u001b[0m\n\u001b[1;32m    232\u001b[0m f_const \u001b[38;5;241m=\u001b[39m dolfinx\u001b[38;5;241m.\u001b[39mfem\u001b[38;5;241m.\u001b[39mConstant(mesh, f)\n\u001b[1;32m    233\u001b[0m L \u001b[38;5;241m=\u001b[39m ufl\u001b[38;5;241m.\u001b[39mdot(f_const, v) \u001b[38;5;241m*\u001b[39m ufl\u001b[38;5;241m.\u001b[39mdx \n\u001b[0;32m--> 234\u001b[0m problem \u001b[38;5;241m=\u001b[39m \u001b[43mdolfinx\u001b[49m\u001b[38;5;241;43m.\u001b[39;49m\u001b[43mfem\u001b[49m\u001b[38;5;241;43m.\u001b[39;49m\u001b[43mpetsc\u001b[49m\u001b[38;5;241;43m.\u001b[39;49m\u001b[43mLinearProblem\u001b[49m\u001b[43m(\u001b[49m\u001b[43ma\u001b[49m\u001b[43m,\u001b[49m\u001b[43m \u001b[49m\u001b[43mL\u001b[49m\u001b[43m,\u001b[49m\u001b[43m \u001b[49m\u001b[43mbcs\u001b[49m\u001b[38;5;241;43m=\u001b[39;49m\u001b[43mbc\u001b[49m\u001b[43m,\u001b[49m\u001b[43m \u001b[49m\u001b[43mpetsc_options\u001b[49m\u001b[38;5;241;43m=\u001b[39;49m\u001b[43m{\u001b[49m\u001b[38;5;124;43m\"\u001b[39;49m\u001b[38;5;124;43mksp_atol\u001b[39;49m\u001b[38;5;124;43m\"\u001b[39;49m\u001b[43m:\u001b[49m\u001b[43matol\u001b[49m\u001b[43m,\u001b[49m\u001b[43m \u001b[49m\u001b[38;5;124;43m\"\u001b[39;49m\u001b[38;5;124;43mksp_rtol\u001b[39;49m\u001b[38;5;124;43m\"\u001b[39;49m\u001b[43m:\u001b[49m\u001b[43mrtol\u001b[49m\u001b[43m,\u001b[49m\u001b[43m \u001b[49m\u001b[38;5;124;43m\"\u001b[39;49m\u001b[38;5;124;43mksp_type\u001b[39;49m\u001b[38;5;124;43m\"\u001b[39;49m\u001b[43m:\u001b[49m\u001b[43m \u001b[49m\u001b[38;5;124;43m\"\u001b[39;49m\u001b[38;5;124;43mpreonly\u001b[39;49m\u001b[38;5;124;43m\"\u001b[39;49m\u001b[43m,\u001b[49m\u001b[43m \u001b[49m\u001b[38;5;124;43m\"\u001b[39;49m\u001b[38;5;124;43mpc_type\u001b[39;49m\u001b[38;5;124;43m\"\u001b[39;49m\u001b[43m:\u001b[49m\u001b[43m \u001b[49m\u001b[38;5;124;43m\"\u001b[39;49m\u001b[38;5;124;43mlu\u001b[39;49m\u001b[38;5;124;43m\"\u001b[39;49m\u001b[43m}\u001b[49m\u001b[43m)\u001b[49m\n\u001b[1;32m    235\u001b[0m \u001b[38;5;28;01mreturn\u001b[39;00m problem\n",
      "File \u001b[0;32m/usr/local/dolfinx-real/lib/python3.8/dist-packages/dolfinx/fem/petsc.py:533\u001b[0m, in \u001b[0;36mLinearProblem.__init__\u001b[0;34m(self, a, L, bcs, u, petsc_options, form_compiler_params, jit_params)\u001b[0m\n\u001b[1;32m    531\u001b[0m opts\u001b[38;5;241m.\u001b[39mprefixPush(problem_prefix)\n\u001b[1;32m    532\u001b[0m \u001b[38;5;28;01mfor\u001b[39;00m k, v \u001b[38;5;129;01min\u001b[39;00m petsc_options\u001b[38;5;241m.\u001b[39mitems():\n\u001b[0;32m--> 533\u001b[0m     opts[k] \u001b[38;5;241m=\u001b[39m v\n\u001b[1;32m    534\u001b[0m opts\u001b[38;5;241m.\u001b[39mprefixPop()\n\u001b[1;32m    535\u001b[0m \u001b[38;5;28mself\u001b[39m\u001b[38;5;241m.\u001b[39m_solver\u001b[38;5;241m.\u001b[39msetFromOptions()\n",
      "File \u001b[0;32mPETSc/Options.pyx:23\u001b[0m, in \u001b[0;36mpetsc4py.PETSc.Options.__setitem__\u001b[0;34m()\u001b[0m\n",
      "File \u001b[0;32mPETSc/Options.pyx:91\u001b[0m, in \u001b[0;36mpetsc4py.PETSc.Options.setValue\u001b[0;34m()\u001b[0m\n",
      "\u001b[0;31mError\u001b[0m: error code 55\n[0] PetscOptionsSetValue() at /usr/local/petsc/src/sys/objects/options.c:1165\n[0] PetscOptionsSetValue_Private() at /usr/local/petsc/src/sys/objects/options.c:1215\n[0] Out of memory. Allocated: 0, Used by process: 470536192\n[0] Number of options 512 < max number of options 512, can not allocate enough space"
     ]
    }
   ],
   "metadata": {
    "tags": []
   }
  },
  {
   "cell_type": "markdown",
   "source": [
    "Compute test data:"
   ],
   "metadata": {}
  },
  {
   "cell_type": "code",
   "execution_count": 12,
   "source": [
    "results = {key: [] for key in ('C_1', 'beam_angle', 'end_disp', 't_solve', 'volume')}\n",
    "for i, params in enumerate(test_param_combos):\n",
    "\n",
    "    print(f\"Performing simulation {i+1}/{len(test_param_combos)} (C_1 = {params['C_1']}, Beam angle = {params['beam_angle']})\")\n",
    "    results['C_1'].append(params['C_1'])\n",
    "    results['beam_angle'].append(params['beam_angle'])\n",
    "    \n",
    "    # Note how long each simulation takes:\n",
    "    t_start = time.time()\n",
    "    u = fenics_helpers.simulate_linear_beam(mesh, C_1=params['C_1'], beam_angle=params['beam_angle'], **fixed_params)\n",
    "    t_solve = time.time() - t_start\n",
    "    results['t_solve'].append(t_solve)\n",
    "    print(f'Simulation took {t_solve/60:.2f} mins.\\n')\n",
    "    \n",
    "    results['end_disp'].append(fenics_helpers.compute_end_displacement(u, mesh, fixed_params['width'], fixed_params['length']))\n",
    "    results['volume'].append(fenics_helpers.compute_pre_and_postdeformation_volume(u, mesh))\n",
    "\n",
    "results['fixed_params'] = fixed_params\n",
    "\n",
    "# Save results to json:\n",
    "with open(os.path.join(data_save_dir, 'linear_beam_test_data.json'), 'w') as f:\n",
    "    json.dump(results, f, indent=4)"
   ],
   "outputs": [
    {
     "output_type": "stream",
     "name": "stdout",
     "text": [
      "Performing simulation 1/81 (C_1 = 2.1777777777777776, Beam angle = 10.0)\n"
     ]
    },
    {
     "output_type": "error",
     "ename": "Error",
     "evalue": "error code 55\n[0] PetscOptionsSetValue() at /usr/local/petsc/src/sys/objects/options.c:1165\n[0] PetscOptionsSetValue_Private() at /usr/local/petsc/src/sys/objects/options.c:1215\n[0] Out of memory. Allocated: 0, Used by process: 467402752\n[0] Number of options 512 < max number of options 512, can not allocate enough space",
     "traceback": [
      "\u001b[0;31m---------------------------------------------------------------------------\u001b[0m",
      "\u001b[0;31mError\u001b[0m                                     Traceback (most recent call last)",
      "Input \u001b[0;32mIn [12]\u001b[0m, in \u001b[0;36m<cell line: 2>\u001b[0;34m()\u001b[0m\n\u001b[1;32m      8\u001b[0m \u001b[38;5;66;03m# Note how long each simulation takes:\u001b[39;00m\n\u001b[1;32m      9\u001b[0m t_start \u001b[38;5;241m=\u001b[39m time\u001b[38;5;241m.\u001b[39mtime()\n\u001b[0;32m---> 10\u001b[0m u \u001b[38;5;241m=\u001b[39m \u001b[43mfenics_helpers\u001b[49m\u001b[38;5;241;43m.\u001b[39;49m\u001b[43msimulate_linear_beam\u001b[49m\u001b[43m(\u001b[49m\u001b[43mmesh\u001b[49m\u001b[43m,\u001b[49m\u001b[43m \u001b[49m\u001b[43mC_1\u001b[49m\u001b[38;5;241;43m=\u001b[39;49m\u001b[43mparams\u001b[49m\u001b[43m[\u001b[49m\u001b[38;5;124;43m'\u001b[39;49m\u001b[38;5;124;43mC_1\u001b[39;49m\u001b[38;5;124;43m'\u001b[39;49m\u001b[43m]\u001b[49m\u001b[43m,\u001b[49m\u001b[43m \u001b[49m\u001b[43mbeam_angle\u001b[49m\u001b[38;5;241;43m=\u001b[39;49m\u001b[43mparams\u001b[49m\u001b[43m[\u001b[49m\u001b[38;5;124;43m'\u001b[39;49m\u001b[38;5;124;43mbeam_angle\u001b[39;49m\u001b[38;5;124;43m'\u001b[39;49m\u001b[43m]\u001b[49m\u001b[43m,\u001b[49m\u001b[43m \u001b[49m\u001b[38;5;241;43m*\u001b[39;49m\u001b[38;5;241;43m*\u001b[39;49m\u001b[43mfixed_params\u001b[49m\u001b[43m)\u001b[49m\n\u001b[1;32m     11\u001b[0m t_solve \u001b[38;5;241m=\u001b[39m time\u001b[38;5;241m.\u001b[39mtime() \u001b[38;5;241m-\u001b[39m t_start\n\u001b[1;32m     12\u001b[0m results[\u001b[38;5;124m'\u001b[39m\u001b[38;5;124mt_solve\u001b[39m\u001b[38;5;124m'\u001b[39m]\u001b[38;5;241m.\u001b[39mappend(t_solve)\n",
      "File \u001b[0;32m~/shared/fenics_models/fenics_helpers.py:118\u001b[0m, in \u001b[0;36msimulate_linear_beam\u001b[0;34m(mesh, beam_angle, C_1, kappa, density, g, elem_order, rtol, atol, **ignored_kwargs)\u001b[0m\n\u001b[1;32m    116\u001b[0m lambda_ \u001b[38;5;241m=\u001b[39m \u001b[38;5;241m2\u001b[39m\u001b[38;5;241m*\u001b[39mkappa\n\u001b[1;32m    117\u001b[0m f \u001b[38;5;241m=\u001b[39m _create_load_vector(beam_angle, density, g)\n\u001b[0;32m--> 118\u001b[0m problem \u001b[38;5;241m=\u001b[39m \u001b[43m_create_linear_beam_problem\u001b[49m\u001b[43m(\u001b[49m\u001b[43mmesh\u001b[49m\u001b[43m,\u001b[49m\u001b[43m \u001b[49m\u001b[43mmu\u001b[49m\u001b[43m,\u001b[49m\u001b[43m \u001b[49m\u001b[43mlambda_\u001b[49m\u001b[43m,\u001b[49m\u001b[43m \u001b[49m\u001b[43mf\u001b[49m\u001b[43m,\u001b[49m\u001b[43m \u001b[49m\u001b[43mV\u001b[49m\u001b[43m,\u001b[49m\u001b[43m \u001b[49m\u001b[43mbcs\u001b[49m\u001b[43m,\u001b[49m\u001b[43m \u001b[49m\u001b[43matol\u001b[49m\u001b[43m,\u001b[49m\u001b[43m \u001b[49m\u001b[43mrtol\u001b[49m\u001b[43m)\u001b[49m\n\u001b[1;32m    119\u001b[0m u \u001b[38;5;241m=\u001b[39m problem\u001b[38;5;241m.\u001b[39msolve()\n\u001b[1;32m    120\u001b[0m \u001b[38;5;28;01mreturn\u001b[39;00m u\n",
      "File \u001b[0;32m~/shared/fenics_models/fenics_helpers.py:234\u001b[0m, in \u001b[0;36m_create_linear_beam_problem\u001b[0;34m(mesh, mu, lambda_, f, V, bc, atol, rtol)\u001b[0m\n\u001b[1;32m    232\u001b[0m f_const \u001b[38;5;241m=\u001b[39m dolfinx\u001b[38;5;241m.\u001b[39mfem\u001b[38;5;241m.\u001b[39mConstant(mesh, f)\n\u001b[1;32m    233\u001b[0m L \u001b[38;5;241m=\u001b[39m ufl\u001b[38;5;241m.\u001b[39mdot(f_const, v) \u001b[38;5;241m*\u001b[39m ufl\u001b[38;5;241m.\u001b[39mdx \n\u001b[0;32m--> 234\u001b[0m problem \u001b[38;5;241m=\u001b[39m \u001b[43mdolfinx\u001b[49m\u001b[38;5;241;43m.\u001b[39;49m\u001b[43mfem\u001b[49m\u001b[38;5;241;43m.\u001b[39;49m\u001b[43mpetsc\u001b[49m\u001b[38;5;241;43m.\u001b[39;49m\u001b[43mLinearProblem\u001b[49m\u001b[43m(\u001b[49m\u001b[43ma\u001b[49m\u001b[43m,\u001b[49m\u001b[43m \u001b[49m\u001b[43mL\u001b[49m\u001b[43m,\u001b[49m\u001b[43m \u001b[49m\u001b[43mbcs\u001b[49m\u001b[38;5;241;43m=\u001b[39;49m\u001b[43mbc\u001b[49m\u001b[43m,\u001b[49m\u001b[43m \u001b[49m\u001b[43mpetsc_options\u001b[49m\u001b[38;5;241;43m=\u001b[39;49m\u001b[43m{\u001b[49m\u001b[38;5;124;43m\"\u001b[39;49m\u001b[38;5;124;43mksp_atol\u001b[39;49m\u001b[38;5;124;43m\"\u001b[39;49m\u001b[43m:\u001b[49m\u001b[43matol\u001b[49m\u001b[43m,\u001b[49m\u001b[43m \u001b[49m\u001b[38;5;124;43m\"\u001b[39;49m\u001b[38;5;124;43mksp_rtol\u001b[39;49m\u001b[38;5;124;43m\"\u001b[39;49m\u001b[43m:\u001b[49m\u001b[43mrtol\u001b[49m\u001b[43m,\u001b[49m\u001b[43m \u001b[49m\u001b[38;5;124;43m\"\u001b[39;49m\u001b[38;5;124;43mksp_type\u001b[39;49m\u001b[38;5;124;43m\"\u001b[39;49m\u001b[43m:\u001b[49m\u001b[43m \u001b[49m\u001b[38;5;124;43m\"\u001b[39;49m\u001b[38;5;124;43mpreonly\u001b[39;49m\u001b[38;5;124;43m\"\u001b[39;49m\u001b[43m,\u001b[49m\u001b[43m \u001b[49m\u001b[38;5;124;43m\"\u001b[39;49m\u001b[38;5;124;43mpc_type\u001b[39;49m\u001b[38;5;124;43m\"\u001b[39;49m\u001b[43m:\u001b[49m\u001b[43m \u001b[49m\u001b[38;5;124;43m\"\u001b[39;49m\u001b[38;5;124;43mlu\u001b[39;49m\u001b[38;5;124;43m\"\u001b[39;49m\u001b[43m}\u001b[49m\u001b[43m)\u001b[49m\n\u001b[1;32m    235\u001b[0m \u001b[38;5;28;01mreturn\u001b[39;00m problem\n",
      "File \u001b[0;32m/usr/local/dolfinx-real/lib/python3.8/dist-packages/dolfinx/fem/petsc.py:533\u001b[0m, in \u001b[0;36mLinearProblem.__init__\u001b[0;34m(self, a, L, bcs, u, petsc_options, form_compiler_params, jit_params)\u001b[0m\n\u001b[1;32m    531\u001b[0m opts\u001b[38;5;241m.\u001b[39mprefixPush(problem_prefix)\n\u001b[1;32m    532\u001b[0m \u001b[38;5;28;01mfor\u001b[39;00m k, v \u001b[38;5;129;01min\u001b[39;00m petsc_options\u001b[38;5;241m.\u001b[39mitems():\n\u001b[0;32m--> 533\u001b[0m     opts[k] \u001b[38;5;241m=\u001b[39m v\n\u001b[1;32m    534\u001b[0m opts\u001b[38;5;241m.\u001b[39mprefixPop()\n\u001b[1;32m    535\u001b[0m \u001b[38;5;28mself\u001b[39m\u001b[38;5;241m.\u001b[39m_solver\u001b[38;5;241m.\u001b[39msetFromOptions()\n",
      "File \u001b[0;32mPETSc/Options.pyx:23\u001b[0m, in \u001b[0;36mpetsc4py.PETSc.Options.__setitem__\u001b[0;34m()\u001b[0m\n",
      "File \u001b[0;32mPETSc/Options.pyx:91\u001b[0m, in \u001b[0;36mpetsc4py.PETSc.Options.setValue\u001b[0;34m()\u001b[0m\n",
      "\u001b[0;31mError\u001b[0m: error code 55\n[0] PetscOptionsSetValue() at /usr/local/petsc/src/sys/objects/options.c:1165\n[0] PetscOptionsSetValue_Private() at /usr/local/petsc/src/sys/objects/options.c:1215\n[0] Out of memory. Allocated: 0, Used by process: 467402752\n[0] Number of options 512 < max number of options 512, can not allocate enough space"
     ]
    }
   ],
   "metadata": {}
  },
  {
   "cell_type": "code",
   "execution_count": null,
   "source": [],
   "outputs": [],
   "metadata": {}
  }
 ],
 "metadata": {
  "kernelspec": {
   "display_name": "Python 3 (ipykernel)",
   "language": "python",
   "name": "python3"
  },
  "language_info": {
   "codemirror_mode": {
    "name": "ipython",
    "version": 3
   },
   "file_extension": ".py",
   "mimetype": "text/x-python",
   "name": "python",
   "nbconvert_exporter": "python",
   "pygments_lexer": "ipython3",
   "version": "3.9.7"
  }
 },
 "nbformat": 4,
 "nbformat_minor": 5
}