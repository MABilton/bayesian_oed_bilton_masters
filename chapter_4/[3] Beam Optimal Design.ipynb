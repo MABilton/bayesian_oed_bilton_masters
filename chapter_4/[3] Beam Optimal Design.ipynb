{
 "cells": [
  {
   "cell_type": "code",
   "execution_count": null,
   "id": "4821c966",
   "metadata": {},
   "outputs": [],
   "source": [
    "import jax.numpy as jnp\n",
    "import surrojax_gp\n",
    "import post_approx\n",
    "import oed_toolbox"
   ]
  },
  {
   "cell_type": "markdown",
   "id": "e2779e0f",
   "metadata": {},
   "source": [
    "Laplace approximation:"
   ]
  },
  {
   "cell_type": "markdown",
   "id": "f17e9c35",
   "metadata": {},
   "source": [
    "Amortised inference (normal approximation):"
   ]
  },
  {
   "cell_type": "code",
   "execution_count": null,
   "id": "fdc1e8e1",
   "metadata": {},
   "outputs": [],
   "source": [
    "Amortised inference (mixture approximation):"
   ]
  }
 ],
 "metadata": {
  "kernelspec": {
   "display_name": "Python 3 (ipykernel)",
   "language": "python",
   "name": "python3"
  },
  "language_info": {
   "codemirror_mode": {
    "name": "ipython",
    "version": 3
   },
   "file_extension": ".py",
   "mimetype": "text/x-python",
   "name": "python",
   "nbconvert_exporter": "python",
   "pygments_lexer": "ipython3",
   "version": "3.8.10"
  }
 },
 "nbformat": 4,
 "nbformat_minor": 5
}
