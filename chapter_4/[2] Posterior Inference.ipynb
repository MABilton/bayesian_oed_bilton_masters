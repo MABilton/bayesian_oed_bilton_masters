{
 "cells": [
  {
   "cell_type": "code",
   "execution_count": 208,
   "id": "678aace1",
   "metadata": {},
   "outputs": [],
   "source": [
    "import jax\n",
    "import jax.numpy as jnp\n",
    "import surrojax_gp\n",
    "import approx_post\n",
    "import oed_toolbox\n",
    "import matplotlib.pyplot as plt\n",
    "import seaborn as sns"
   ]
  },
  {
   "cell_type": "code",
   "execution_count": 155,
   "id": "567af6f4",
   "metadata": {},
   "outputs": [],
   "source": [
    "def compute_true_log_posterior(model, noise_cov, prior_mean, prior_cov, theta_lims=(-0.5,1.5), num_int_pts=1000):\n",
    "    \n",
    "    noise_icov = jnp.linalg.inv(noise_cov)\n",
    "    prior_icov = jnp.linalg.inv(prior_cov)\n",
    "\n",
    "    def unnorm_posterior(theta, y, d):\n",
    "        y_pred = model.predict(theta, d)\n",
    "        unnorm_vals = -0.5*(jnp.einsum('ai,ij,aj->a', y-y_pred, noise_icov, y-y_pred) + \\\n",
    "                            jnp.einsum('ai,ij,aj->a', theta-prior_mean, prior_icov, theta-prior_mean))\n",
    "        return jnp.exp(unnorm_vals)\n",
    "\n",
    "    theta_int = jnp.linspace(*theta_lims, num_int_pts).reshape(-1,1)\n",
    "    d_theta = (theta_lims[1]-theta_lims[0])/(num_int_pts-1)\n",
    "    def norm_const(y, d):\n",
    "        unnorm_vals = unnorm_posterior(theta_int, y, d)\n",
    "        return jnp.trapz(unnorm_vals.squeeze(), dx=d_theta)\n",
    "\n",
    "    def true_posterior(theta, y, d):\n",
    "        norm_const_val = norm_const(y, d)\n",
    "        unnorm_val = unnorm_posterior(theta, y, d)\n",
    "        return unnorm_val/norm_const_val\n",
    "\n",
    "    return true_posterior"
   ]
  },
  {
   "cell_type": "code",
   "execution_count": 156,
   "id": "9a7d11f0",
   "metadata": {},
   "outputs": [],
   "source": [
    "prng = jax.random.PRNGKey(42)"
   ]
  },
  {
   "cell_type": "markdown",
   "id": "0530a587",
   "metadata": {},
   "source": [
    "Load our previously trained model from Notebook \\[1\\]"
   ]
  },
  {
   "cell_type": "code",
   "execution_count": 157,
   "id": "b50fc3d7-6090-411d-9c24-fff9dfb9ed77",
   "metadata": {},
   "outputs": [],
   "source": [
    "beam_gp = surrojax_gp.load_gp('nonlinear_beam_gp.json')"
   ]
  },
  {
   "cell_type": "markdown",
   "id": "7a275048",
   "metadata": {},
   "source": [
    "Let's define our prior and noise covariance:"
   ]
  },
  {
   "cell_type": "code",
   "execution_count": 158,
   "id": "c5a7eea2",
   "metadata": {},
   "outputs": [],
   "source": [
    "noise_cov = 0.1*jnp.identity(1)\n",
    "prior_cov = 0.1*jnp.identity(1)\n",
    "prior_mean = 0.5*jnp.ones((1,))"
   ]
  },
  {
   "cell_type": "code",
   "execution_count": 159,
   "id": "b16f0b5c",
   "metadata": {},
   "outputs": [],
   "source": [
    "model = oed_toolbox.models.Model.from_surrojax_gp(beam_gp)\n",
    "true_posterior = compute_true_log_posterior(model, noise_cov, prior_mean, prior_cov)"
   ]
  },
  {
   "cell_type": "code",
   "execution_count": 228,
   "id": "3f2bb50d",
   "metadata": {},
   "outputs": [
    {
     "data": {
      "image/png": "[encoded data removed]",
      "text/plain": [
       "<Figure size 432x288 with 1 Axes>"
      ]
     },
     "metadata": {},
     "output_type": "display_data"
    }
   ],
   "source": [
    "noise_cov = 0.01*jnp.identity(1)\n",
    "prior_cov = 0.01*jnp.identity(1)\n",
    "prior_mean = 0.6*jnp.ones((1,))\n",
    "true_posterior = compute_true_log_posterior(model, noise_cov, prior_mean, prior_cov)\n",
    "y = jnp.array([[0.5]])\n",
    "d = jnp.array([[0.9]])\n",
    "theta = jnp.linspace(0.0, 1.0, 5000).reshape(-1,1)\n",
    "pdf_1 = true_posterior(theta, y, d)\n",
    "y = jnp.array([[0.7]])\n",
    "d = jnp.array([[0.23]])\n",
    "pdf_2 = true_posterior(theta, y, d)\n",
    "plot_distributions(jnp.stack([pdf_1, pdf_2], axis=0), theta, pdf_labels=['Dist A', 'Dist B'])"
   ]
  },
  {
   "cell_type": "code",
   "execution_count": 213,
   "id": "02c1ecb2",
   "metadata": {},
   "outputs": [
    {
     "data": {
      "text/plain": [
       "(2, 5000)"
      ]
     },
     "execution_count": 213,
     "metadata": {},
     "output_type": "execute_result"
    }
   ],
   "source": [
    "jnp.stack([pdf_1, pdf_2], axis=0).shape"
   ]
  },
  {
   "cell_type": "markdown",
   "id": "4b08c58c",
   "metadata": {},
   "source": [
    "Create Laplace approximation posterior:"
   ]
  },
  {
   "cell_type": "code",
   "execution_count": null,
   "id": "e7edc28d-7681-49d1-9138-0dc34ee3a428",
   "metadata": {},
   "outputs": [],
   "source": [
    "model = oed_toolbox.model.from_surrojax_gp(beam_gp)\n",
    "minimizer = oed_toolbox.optim.gradient_descent_for_map()\n",
    "laplace_approx = oed_toolbox.Distributions.Posterior.laplace_approx(model, minimizer)"
   ]
  },
  {
   "cell_type": "markdown",
   "id": "7c1ee5bd",
   "metadata": {},
   "source": [
    "Create amortised inference posterior (Normal distribution):"
   ]
  },
  {
   "cell_type": "code",
   "execution_count": null,
   "id": "a9e1fe74",
   "metadata": {},
   "outputs": [],
   "source": [
    "normal_approx = approx_post.approx.Gaussian(ndim=1)\n",
    "amortised_approx = approx_post.amortised.NeuralNetwork(normal_approx, x_dim=1, prngkey=prng)\n",
    "\n",
    "joint = "
   ]
  },
  {
   "cell_type": "markdown",
   "id": "73638151",
   "metadata": {},
   "source": [
    "Create amortised inference posterior (Mixture distribution):"
   ]
  },
  {
   "cell_type": "markdown",
   "id": "a30316de-60dd-4c35-b864-0e9f64975439",
   "metadata": {},
   "source": [
    "Let's see how the mean and covariance of the Laplace approximation and the amortised distribution change with the beam angle and design:"
   ]
  },
  {
   "cell_type": "code",
   "execution_count": null,
   "id": "769acafa",
   "metadata": {},
   "outputs": [],
   "source": []
  }
 ],
 "metadata": {
  "kernelspec": {
   "display_name": "Python 3 (ipykernel)",
   "language": "python",
   "name": "python3"
  },
  "language_info": {
   "codemirror_mode": {
    "name": "ipython",
    "version": 3
   },
   "file_extension": ".py",
   "mimetype": "text/x-python",
   "name": "python",
   "nbconvert_exporter": "python",
   "pygments_lexer": "ipython3",
   "version": "3.8.10"
  }
 },
 "nbformat": 4,
 "nbformat_minor": 5
}
