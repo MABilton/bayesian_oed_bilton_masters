{
 "cells": [
  {
   "cell_type": "code",
   "execution_count": null,
   "id": "678aace1",
   "metadata": {},
   "outputs": [],
   "source": [
    "import jax.numpy as jnp\n",
    "import surrojax_gp\n",
    "import post_approx\n",
    "import oed_toolbox"
   ]
  },
  {
   "cell_type": "markdown",
   "id": "0530a587",
   "metadata": {},
   "source": [
    "Load our previously trained model from Notebook \\[1\\]"
   ]
  },
  {
   "cell_type": "markdown",
   "id": "d8b78218",
   "metadata": {},
   "source": [
    "Code to produce 'true' posterior for a particular theta and d (use simple integration):"
   ]
  },
  {
   "cell_type": "markdown",
   "id": "4b08c58c",
   "metadata": {},
   "source": [
    "Create Laplace approximation posterior:"
   ]
  },
  {
   "cell_type": "markdown",
   "id": "7c1ee5bd",
   "metadata": {},
   "source": [
    "Create amortised inference posterior (Normal distribution):"
   ]
  },
  {
   "cell_type": "markdown",
   "id": "73638151",
   "metadata": {},
   "source": [
    "Create amortised inference posterior (Mixture distribution):"
   ]
  },
  {
   "cell_type": "markdown",
   "id": "0b35835c",
   "metadata": {},
   "source": [
    "Plot these all together:"
   ]
  },
  {
   "cell_type": "code",
   "execution_count": null,
   "id": "769acafa",
   "metadata": {},
   "outputs": [],
   "source": []
  }
 ],
 "metadata": {
  "kernelspec": {
   "display_name": "Python 3 (ipykernel)",
   "language": "python",
   "name": "python3"
  },
  "language_info": {
   "codemirror_mode": {
    "name": "ipython",
    "version": 3
   },
   "file_extension": ".py",
   "mimetype": "text/x-python",
   "name": "python",
   "nbconvert_exporter": "python",
   "pygments_lexer": "ipython3",
   "version": "3.8.10"
  }
 },
 "nbformat": 4,
 "nbformat_minor": 5
}
