{
 "cells": [
  {
   "cell_type": "code",
   "execution_count": null,
   "id": "4dd9772d",
   "metadata": {},
   "outputs": [],
   "source": [
    "import jax.numpy as jnp\n",
    "import surrojax_gp\n",
    "import post_approx\n",
    "import oed_toolbox"
   ]
  },
  {
   "cell_type": "markdown",
   "id": "6e70b0fc",
   "metadata": {},
   "source": [
    "Create fisher information matrix:"
   ]
  },
  {
   "cell_type": "markdown",
   "id": "b670e59f",
   "metadata": {},
   "source": [
    "Compute optimal design for different theta estimates:"
   ]
  }
 ],
 "metadata": {
  "kernelspec": {
   "display_name": "Python 3 (ipykernel)",
   "language": "python",
   "name": "python3"
  },
  "language_info": {
   "codemirror_mode": {
    "name": "ipython",
    "version": 3
   },
   "file_extension": ".py",
   "mimetype": "text/x-python",
   "name": "python",
   "nbconvert_exporter": "python",
   "pygments_lexer": "ipython3",
   "version": "3.8.10"
  }
 },
 "nbformat": 4,
 "nbformat_minor": 5
}
